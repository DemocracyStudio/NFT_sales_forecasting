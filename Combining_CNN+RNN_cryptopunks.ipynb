{
  "cells": [
    {
      "cell_type": "markdown",
      "source": [
        "# NFT sales forecasting - Predicting the price of NFTs using visual features. \n",
        "What we want is to give an image to the model, and it will give us an evaluation of the price it could be sold. \n",
        "\n",
        "The evaluation shouldn't relie only on the market data but also on the image itself. Thus we will use a CNN model of AlexNet architecture to train the relationship between the image and the price, and an RNN model to compute the time series of prices along dates. "
      ],
      "metadata": {
        "id": "bs_8ZZEwIGgw"
      }
    },
    {
      "cell_type": "code",
      "execution_count": 1,
      "metadata": {
        "id": "x9NFsz0rlp4E"
      },
      "outputs": [],
      "source": [
        "import numpy as np\n",
        "from numpy import newaxis\n",
        "import pandas as pd\n",
        "import matplotlib.pyplot as plt\n",
        "\n",
        "import tensorflow as tf\n",
        "from tensorflow import keras\n",
        "from keras.applications.vgg16 import VGG16\n",
        "from keras import models\n",
        "from keras.models import Model\n",
        "from keras.preprocessing.image import img_to_array \n",
        "from keras.applications.vgg16 import preprocess_input\n",
        "from keras.layers import InputSpec, Input, Conv2D, concatenate, Bidirectional,CuDNNLSTM,Dropout\n",
        "from keras.layers.convolutional import Conv2D, MaxPooling2D\n",
        "from keras.models import Sequential\n",
        "from keras.layers import Dense, Activation, Flatten\n",
        "from dataclasses import dataclass\n",
        "\n",
        "import base64\n",
        "from PIL import Image\n",
        "import io\n",
        "from io import BytesIO\n",
        "import cv2\n",
        "\n",
        "from sklearn.decomposition import PCA\n",
        "from google.colab import files"
      ]
    },
    {
      "cell_type": "code",
      "execution_count": 2,
      "metadata": {
        "colab": {
          "base_uri": "https://localhost:8080/"
        },
        "id": "2dlUMfi1pIK_",
        "outputId": "0d127f75-5b2b-428d-adce-b22870b42913"
      },
      "outputs": [
        {
          "output_type": "stream",
          "name": "stdout",
          "text": [
            "Mounted at /content/drive\n"
          ]
        }
      ],
      "source": [
        "from google.colab import drive\n",
        "drive.mount('/content/drive')"
      ]
    },
    {
      "cell_type": "code",
      "execution_count": 3,
      "metadata": {
        "colab": {
          "base_uri": "https://localhost:8080/",
          "height": 206
        },
        "id": "pNbESlUVpERu",
        "outputId": "944a02fb-986a-422d-e450-d8feb644fcd9"
      },
      "outputs": [
        {
          "output_type": "execute_result",
          "data": {
            "text/plain": [
              "         date  token_id      btc_usd  \\\n",
              "0  2017-11-09      2690  7143.580078   \n",
              "1  2017-11-09      5623  7143.580078   \n",
              "2  2017-11-12      9965  5950.069824   \n",
              "3  2017-11-13      7750  6559.490234   \n",
              "4  2017-11-13      7464  6559.490234   \n",
              "\n",
              "                                                 img  \n",
              "0  b'iVBORw0KGgoAAAANSUhEUgAAAVAAAAFQCAYAAADp6CbZ...  \n",
              "1  b'iVBORw0KGgoAAAANSUhEUgAAAVAAAAFQCAYAAADp6CbZ...  \n",
              "2  b'iVBORw0KGgoAAAANSUhEUgAAAVAAAAFQCAYAAADp6CbZ...  \n",
              "3  b'iVBORw0KGgoAAAANSUhEUgAAAVAAAAFQCAYAAADp6CbZ...  \n",
              "4  b'iVBORw0KGgoAAAANSUhEUgAAAVAAAAFQCAYAAADp6CbZ...  "
            ],
            "text/html": [
              "\n",
              "  <div id=\"df-3be17cb4-56c6-4b50-984d-8165c9e30915\">\n",
              "    <div class=\"colab-df-container\">\n",
              "      <div>\n",
              "<style scoped>\n",
              "    .dataframe tbody tr th:only-of-type {\n",
              "        vertical-align: middle;\n",
              "    }\n",
              "\n",
              "    .dataframe tbody tr th {\n",
              "        vertical-align: top;\n",
              "    }\n",
              "\n",
              "    .dataframe thead th {\n",
              "        text-align: right;\n",
              "    }\n",
              "</style>\n",
              "<table border=\"1\" class=\"dataframe\">\n",
              "  <thead>\n",
              "    <tr style=\"text-align: right;\">\n",
              "      <th></th>\n",
              "      <th>date</th>\n",
              "      <th>token_id</th>\n",
              "      <th>btc_usd</th>\n",
              "      <th>img</th>\n",
              "    </tr>\n",
              "  </thead>\n",
              "  <tbody>\n",
              "    <tr>\n",
              "      <th>0</th>\n",
              "      <td>2017-11-09</td>\n",
              "      <td>2690</td>\n",
              "      <td>7143.580078</td>\n",
              "      <td>b'iVBORw0KGgoAAAANSUhEUgAAAVAAAAFQCAYAAADp6CbZ...</td>\n",
              "    </tr>\n",
              "    <tr>\n",
              "      <th>1</th>\n",
              "      <td>2017-11-09</td>\n",
              "      <td>5623</td>\n",
              "      <td>7143.580078</td>\n",
              "      <td>b'iVBORw0KGgoAAAANSUhEUgAAAVAAAAFQCAYAAADp6CbZ...</td>\n",
              "    </tr>\n",
              "    <tr>\n",
              "      <th>2</th>\n",
              "      <td>2017-11-12</td>\n",
              "      <td>9965</td>\n",
              "      <td>5950.069824</td>\n",
              "      <td>b'iVBORw0KGgoAAAANSUhEUgAAAVAAAAFQCAYAAADp6CbZ...</td>\n",
              "    </tr>\n",
              "    <tr>\n",
              "      <th>3</th>\n",
              "      <td>2017-11-13</td>\n",
              "      <td>7750</td>\n",
              "      <td>6559.490234</td>\n",
              "      <td>b'iVBORw0KGgoAAAANSUhEUgAAAVAAAAFQCAYAAADp6CbZ...</td>\n",
              "    </tr>\n",
              "    <tr>\n",
              "      <th>4</th>\n",
              "      <td>2017-11-13</td>\n",
              "      <td>7464</td>\n",
              "      <td>6559.490234</td>\n",
              "      <td>b'iVBORw0KGgoAAAANSUhEUgAAAVAAAAFQCAYAAADp6CbZ...</td>\n",
              "    </tr>\n",
              "  </tbody>\n",
              "</table>\n",
              "</div>\n",
              "      <button class=\"colab-df-convert\" onclick=\"convertToInteractive('df-3be17cb4-56c6-4b50-984d-8165c9e30915')\"\n",
              "              title=\"Convert this dataframe to an interactive table.\"\n",
              "              style=\"display:none;\">\n",
              "        \n",
              "  <svg xmlns=\"http://www.w3.org/2000/svg\" height=\"24px\"viewBox=\"0 0 24 24\"\n",
              "       width=\"24px\">\n",
              "    <path d=\"M0 0h24v24H0V0z\" fill=\"none\"/>\n",
              "    <path d=\"M18.56 5.44l.94 2.06.94-2.06 2.06-.94-2.06-.94-.94-2.06-.94 2.06-2.06.94zm-11 1L8.5 8.5l.94-2.06 2.06-.94-2.06-.94L8.5 2.5l-.94 2.06-2.06.94zm10 10l.94 2.06.94-2.06 2.06-.94-2.06-.94-.94-2.06-.94 2.06-2.06.94z\"/><path d=\"M17.41 7.96l-1.37-1.37c-.4-.4-.92-.59-1.43-.59-.52 0-1.04.2-1.43.59L10.3 9.45l-7.72 7.72c-.78.78-.78 2.05 0 2.83L4 21.41c.39.39.9.59 1.41.59.51 0 1.02-.2 1.41-.59l7.78-7.78 2.81-2.81c.8-.78.8-2.07 0-2.86zM5.41 20L4 18.59l7.72-7.72 1.47 1.35L5.41 20z\"/>\n",
              "  </svg>\n",
              "      </button>\n",
              "      \n",
              "  <style>\n",
              "    .colab-df-container {\n",
              "      display:flex;\n",
              "      flex-wrap:wrap;\n",
              "      gap: 12px;\n",
              "    }\n",
              "\n",
              "    .colab-df-convert {\n",
              "      background-color: #E8F0FE;\n",
              "      border: none;\n",
              "      border-radius: 50%;\n",
              "      cursor: pointer;\n",
              "      display: none;\n",
              "      fill: #1967D2;\n",
              "      height: 32px;\n",
              "      padding: 0 0 0 0;\n",
              "      width: 32px;\n",
              "    }\n",
              "\n",
              "    .colab-df-convert:hover {\n",
              "      background-color: #E2EBFA;\n",
              "      box-shadow: 0px 1px 2px rgba(60, 64, 67, 0.3), 0px 1px 3px 1px rgba(60, 64, 67, 0.15);\n",
              "      fill: #174EA6;\n",
              "    }\n",
              "\n",
              "    [theme=dark] .colab-df-convert {\n",
              "      background-color: #3B4455;\n",
              "      fill: #D2E3FC;\n",
              "    }\n",
              "\n",
              "    [theme=dark] .colab-df-convert:hover {\n",
              "      background-color: #434B5C;\n",
              "      box-shadow: 0px 1px 3px 1px rgba(0, 0, 0, 0.15);\n",
              "      filter: drop-shadow(0px 1px 2px rgba(0, 0, 0, 0.3));\n",
              "      fill: #FFFFFF;\n",
              "    }\n",
              "  </style>\n",
              "\n",
              "      <script>\n",
              "        const buttonEl =\n",
              "          document.querySelector('#df-3be17cb4-56c6-4b50-984d-8165c9e30915 button.colab-df-convert');\n",
              "        buttonEl.style.display =\n",
              "          google.colab.kernel.accessAllowed ? 'block' : 'none';\n",
              "\n",
              "        async function convertToInteractive(key) {\n",
              "          const element = document.querySelector('#df-3be17cb4-56c6-4b50-984d-8165c9e30915');\n",
              "          const dataTable =\n",
              "            await google.colab.kernel.invokeFunction('convertToInteractive',\n",
              "                                                     [key], {});\n",
              "          if (!dataTable) return;\n",
              "\n",
              "          const docLinkHtml = 'Like what you see? Visit the ' +\n",
              "            '<a target=\"_blank\" href=https://colab.research.google.com/notebooks/data_table.ipynb>data table notebook</a>'\n",
              "            + ' to learn more about interactive tables.';\n",
              "          element.innerHTML = '';\n",
              "          dataTable['output_type'] = 'display_data';\n",
              "          await google.colab.output.renderOutput(dataTable, element);\n",
              "          const docLink = document.createElement('div');\n",
              "          docLink.innerHTML = docLinkHtml;\n",
              "          element.appendChild(docLink);\n",
              "        }\n",
              "      </script>\n",
              "    </div>\n",
              "  </div>\n",
              "  "
            ]
          },
          "metadata": {},
          "execution_count": 3
        }
      ],
      "source": [
        "punks_train = pd.read_csv(\"drive/My Drive/opencampus/ML with TF - NFT sales forecasting/datasets/punks_train_historical.csv\")\n",
        "punks_train = punks_train.sort_values(['date']).reset_index(drop=True)\n",
        "punks_train=punks_train[['date','token_id','btc_usd','img']]\n",
        "punks_train.head()"
      ]
    },
    {
      "cell_type": "code",
      "execution_count": 4,
      "metadata": {
        "colab": {
          "base_uri": "https://localhost:8080/",
          "height": 206
        },
        "id": "MbXZDU24qCFz",
        "outputId": "8962877d-9676-44f9-8861-f45c11376861"
      },
      "outputs": [
        {
          "output_type": "execute_result",
          "data": {
            "text/plain": [
              "         date  token_id       btc_usd  \\\n",
              "0  2021-07-31      5879  41626.195312   \n",
              "1  2021-07-31      7244  41626.195312   \n",
              "2  2021-07-31       773  41626.195312   \n",
              "3  2021-07-31       782  41626.195312   \n",
              "4  2021-07-31      9353  41626.195312   \n",
              "\n",
              "                                                 img  \n",
              "0  b'iVBORw0KGgoAAAANSUhEUgAAAVAAAAFQCAYAAADp6CbZ...  \n",
              "1  b'iVBORw0KGgoAAAANSUhEUgAAAVAAAAFQCAYAAADp6CbZ...  \n",
              "2  b'iVBORw0KGgoAAAANSUhEUgAAAVAAAAFQCAYAAADp6CbZ...  \n",
              "3  b'iVBORw0KGgoAAAANSUhEUgAAAVAAAAFQCAYAAADp6CbZ...  \n",
              "4  b'iVBORw0KGgoAAAANSUhEUgAAAVAAAAFQCAYAAADp6CbZ...  "
            ],
            "text/html": [
              "\n",
              "  <div id=\"df-c6a04c59-6162-4a61-8804-48431bd4e2e5\">\n",
              "    <div class=\"colab-df-container\">\n",
              "      <div>\n",
              "<style scoped>\n",
              "    .dataframe tbody tr th:only-of-type {\n",
              "        vertical-align: middle;\n",
              "    }\n",
              "\n",
              "    .dataframe tbody tr th {\n",
              "        vertical-align: top;\n",
              "    }\n",
              "\n",
              "    .dataframe thead th {\n",
              "        text-align: right;\n",
              "    }\n",
              "</style>\n",
              "<table border=\"1\" class=\"dataframe\">\n",
              "  <thead>\n",
              "    <tr style=\"text-align: right;\">\n",
              "      <th></th>\n",
              "      <th>date</th>\n",
              "      <th>token_id</th>\n",
              "      <th>btc_usd</th>\n",
              "      <th>img</th>\n",
              "    </tr>\n",
              "  </thead>\n",
              "  <tbody>\n",
              "    <tr>\n",
              "      <th>0</th>\n",
              "      <td>2021-07-31</td>\n",
              "      <td>5879</td>\n",
              "      <td>41626.195312</td>\n",
              "      <td>b'iVBORw0KGgoAAAANSUhEUgAAAVAAAAFQCAYAAADp6CbZ...</td>\n",
              "    </tr>\n",
              "    <tr>\n",
              "      <th>1</th>\n",
              "      <td>2021-07-31</td>\n",
              "      <td>7244</td>\n",
              "      <td>41626.195312</td>\n",
              "      <td>b'iVBORw0KGgoAAAANSUhEUgAAAVAAAAFQCAYAAADp6CbZ...</td>\n",
              "    </tr>\n",
              "    <tr>\n",
              "      <th>2</th>\n",
              "      <td>2021-07-31</td>\n",
              "      <td>773</td>\n",
              "      <td>41626.195312</td>\n",
              "      <td>b'iVBORw0KGgoAAAANSUhEUgAAAVAAAAFQCAYAAADp6CbZ...</td>\n",
              "    </tr>\n",
              "    <tr>\n",
              "      <th>3</th>\n",
              "      <td>2021-07-31</td>\n",
              "      <td>782</td>\n",
              "      <td>41626.195312</td>\n",
              "      <td>b'iVBORw0KGgoAAAANSUhEUgAAAVAAAAFQCAYAAADp6CbZ...</td>\n",
              "    </tr>\n",
              "    <tr>\n",
              "      <th>4</th>\n",
              "      <td>2021-07-31</td>\n",
              "      <td>9353</td>\n",
              "      <td>41626.195312</td>\n",
              "      <td>b'iVBORw0KGgoAAAANSUhEUgAAAVAAAAFQCAYAAADp6CbZ...</td>\n",
              "    </tr>\n",
              "  </tbody>\n",
              "</table>\n",
              "</div>\n",
              "      <button class=\"colab-df-convert\" onclick=\"convertToInteractive('df-c6a04c59-6162-4a61-8804-48431bd4e2e5')\"\n",
              "              title=\"Convert this dataframe to an interactive table.\"\n",
              "              style=\"display:none;\">\n",
              "        \n",
              "  <svg xmlns=\"http://www.w3.org/2000/svg\" height=\"24px\"viewBox=\"0 0 24 24\"\n",
              "       width=\"24px\">\n",
              "    <path d=\"M0 0h24v24H0V0z\" fill=\"none\"/>\n",
              "    <path d=\"M18.56 5.44l.94 2.06.94-2.06 2.06-.94-2.06-.94-.94-2.06-.94 2.06-2.06.94zm-11 1L8.5 8.5l.94-2.06 2.06-.94-2.06-.94L8.5 2.5l-.94 2.06-2.06.94zm10 10l.94 2.06.94-2.06 2.06-.94-2.06-.94-.94-2.06-.94 2.06-2.06.94z\"/><path d=\"M17.41 7.96l-1.37-1.37c-.4-.4-.92-.59-1.43-.59-.52 0-1.04.2-1.43.59L10.3 9.45l-7.72 7.72c-.78.78-.78 2.05 0 2.83L4 21.41c.39.39.9.59 1.41.59.51 0 1.02-.2 1.41-.59l7.78-7.78 2.81-2.81c.8-.78.8-2.07 0-2.86zM5.41 20L4 18.59l7.72-7.72 1.47 1.35L5.41 20z\"/>\n",
              "  </svg>\n",
              "      </button>\n",
              "      \n",
              "  <style>\n",
              "    .colab-df-container {\n",
              "      display:flex;\n",
              "      flex-wrap:wrap;\n",
              "      gap: 12px;\n",
              "    }\n",
              "\n",
              "    .colab-df-convert {\n",
              "      background-color: #E8F0FE;\n",
              "      border: none;\n",
              "      border-radius: 50%;\n",
              "      cursor: pointer;\n",
              "      display: none;\n",
              "      fill: #1967D2;\n",
              "      height: 32px;\n",
              "      padding: 0 0 0 0;\n",
              "      width: 32px;\n",
              "    }\n",
              "\n",
              "    .colab-df-convert:hover {\n",
              "      background-color: #E2EBFA;\n",
              "      box-shadow: 0px 1px 2px rgba(60, 64, 67, 0.3), 0px 1px 3px 1px rgba(60, 64, 67, 0.15);\n",
              "      fill: #174EA6;\n",
              "    }\n",
              "\n",
              "    [theme=dark] .colab-df-convert {\n",
              "      background-color: #3B4455;\n",
              "      fill: #D2E3FC;\n",
              "    }\n",
              "\n",
              "    [theme=dark] .colab-df-convert:hover {\n",
              "      background-color: #434B5C;\n",
              "      box-shadow: 0px 1px 3px 1px rgba(0, 0, 0, 0.15);\n",
              "      filter: drop-shadow(0px 1px 2px rgba(0, 0, 0, 0.3));\n",
              "      fill: #FFFFFF;\n",
              "    }\n",
              "  </style>\n",
              "\n",
              "      <script>\n",
              "        const buttonEl =\n",
              "          document.querySelector('#df-c6a04c59-6162-4a61-8804-48431bd4e2e5 button.colab-df-convert');\n",
              "        buttonEl.style.display =\n",
              "          google.colab.kernel.accessAllowed ? 'block' : 'none';\n",
              "\n",
              "        async function convertToInteractive(key) {\n",
              "          const element = document.querySelector('#df-c6a04c59-6162-4a61-8804-48431bd4e2e5');\n",
              "          const dataTable =\n",
              "            await google.colab.kernel.invokeFunction('convertToInteractive',\n",
              "                                                     [key], {});\n",
              "          if (!dataTable) return;\n",
              "\n",
              "          const docLinkHtml = 'Like what you see? Visit the ' +\n",
              "            '<a target=\"_blank\" href=https://colab.research.google.com/notebooks/data_table.ipynb>data table notebook</a>'\n",
              "            + ' to learn more about interactive tables.';\n",
              "          element.innerHTML = '';\n",
              "          dataTable['output_type'] = 'display_data';\n",
              "          await google.colab.output.renderOutput(dataTable, element);\n",
              "          const docLink = document.createElement('div');\n",
              "          docLink.innerHTML = docLinkHtml;\n",
              "          element.appendChild(docLink);\n",
              "        }\n",
              "      </script>\n",
              "    </div>\n",
              "  </div>\n",
              "  "
            ]
          },
          "metadata": {},
          "execution_count": 4
        }
      ],
      "source": [
        "punks_test = pd.read_csv(\"drive/My Drive/opencampus/ML with TF - NFT sales forecasting/datasets/punks_test_historical.csv\")\n",
        "punks_test = punks_test.sort_values(['date']).reset_index(drop=True)\n",
        "punks_test = punks_test[['date','token_id','btc_usd','img']]\n",
        "punks_test.head()"
      ]
    },
    {
      "cell_type": "code",
      "execution_count": 5,
      "metadata": {
        "id": "OEgRY7ToqXu6"
      },
      "outputs": [],
      "source": [
        "# Converting date column to Date-Time dtype\n",
        "punks_train['date'] = pd.to_datetime(punks_train['date'])\n",
        "punks_test['date'] = pd.to_datetime(punks_test['date'])\n",
        "# Converting token_id column to object dtype\n",
        "punks_train['token_id'] = punks_train['token_id'].astype(str)\n",
        "punks_test['token_id'] = punks_test['token_id'].astype(str)"
      ]
    },
    {
      "cell_type": "code",
      "source": [
        "punks_train.info()"
      ],
      "metadata": {
        "colab": {
          "base_uri": "https://localhost:8080/"
        },
        "id": "WCKiAE0F6lCC",
        "outputId": "da6e26a6-d487-4272-cb42-3c8b2d302fef"
      },
      "execution_count": 6,
      "outputs": [
        {
          "output_type": "stream",
          "name": "stdout",
          "text": [
            "<class 'pandas.core.frame.DataFrame'>\n",
            "RangeIndex: 14346 entries, 0 to 14345\n",
            "Data columns (total 4 columns):\n",
            " #   Column    Non-Null Count  Dtype         \n",
            "---  ------    --------------  -----         \n",
            " 0   date      14346 non-null  datetime64[ns]\n",
            " 1   token_id  14346 non-null  object        \n",
            " 2   btc_usd   14346 non-null  float64       \n",
            " 3   img       14346 non-null  object        \n",
            "dtypes: datetime64[ns](1), float64(1), object(2)\n",
            "memory usage: 448.4+ KB\n"
          ]
        }
      ]
    },
    {
      "cell_type": "markdown",
      "source": [
        "# Data selection to match our challenge\n",
        "\n",
        "Predicting the price of a single item is not really significant: the most sold items only have 15 sales records. We will make predictions at the collection scale. \n",
        "\n",
        "To compute a time series at the collection size, we will need to get a date + a price (+ a visual feature)\n",
        "\n",
        "As the mean of images doesn't make a lot of sense, we will input the median sale price (+ image) for each day. tdates aren't continuous in our dataset since nfts of the cryptopunks collection aren't sold everyday. instead of generating fake data to fill missing dates, we will just compute the time series as if it was continuous which for this case doesn't seems disturbing. "
      ],
      "metadata": {
        "id": "0dsTARepoYWg"
      }
    },
    {
      "cell_type": "code",
      "source": [
        "# select median sale for each date in dataframe\n",
        "dates = punks_train['date'].unique()\n",
        "median_sales = []\n",
        "token_ids = []\n",
        "imgs=[]\n",
        "\n",
        "for date in dates:\n",
        "  day_sales = punks_train.loc[punks_train['date']== date]\n",
        "  median_sale = day_sales['btc_usd'].median()\n",
        "  median_sales.append(median_sale)\n",
        "  token = day_sales['token_id'].loc[(day_sales['date']== date) & (day_sales['btc_usd'] == median_sale)].values[0]\n",
        "  token_ids.append(token)\n",
        "  img = day_sales['img'].loc[(day_sales['date'] == date) & (day_sales['btc_usd'] == median_sale) & (day_sales['token_id'] == token)].values[0]\n",
        "  imgs.append(img)\n",
        "\n",
        "median_daily_train = pd.DataFrame(list(zip(dates, token_ids, median_sales, imgs)), columns=['date', 'token_id', 'btc_usd', 'img'])\n",
        "median_daily_train.head()"
      ],
      "metadata": {
        "colab": {
          "base_uri": "https://localhost:8080/",
          "height": 206
        },
        "id": "_3C_5h55d6lv",
        "outputId": "e9867447-9fcd-491b-9876-94922ee65645"
      },
      "execution_count": 7,
      "outputs": [
        {
          "output_type": "execute_result",
          "data": {
            "text/plain": [
              "        date token_id      btc_usd  \\\n",
              "0 2017-11-09     2690  7143.580078   \n",
              "1 2017-11-12     9965  5950.069824   \n",
              "2 2017-11-13     7750  6559.490234   \n",
              "3 2017-11-14     2795  6635.750000   \n",
              "4 2017-11-15     5670  7315.540039   \n",
              "\n",
              "                                                 img  \n",
              "0  b'iVBORw0KGgoAAAANSUhEUgAAAVAAAAFQCAYAAADp6CbZ...  \n",
              "1  b'iVBORw0KGgoAAAANSUhEUgAAAVAAAAFQCAYAAADp6CbZ...  \n",
              "2  b'iVBORw0KGgoAAAANSUhEUgAAAVAAAAFQCAYAAADp6CbZ...  \n",
              "3  b'iVBORw0KGgoAAAANSUhEUgAAAVAAAAFQCAYAAADp6CbZ...  \n",
              "4  b'iVBORw0KGgoAAAANSUhEUgAAAVAAAAFQCAYAAADp6CbZ...  "
            ],
            "text/html": [
              "\n",
              "  <div id=\"df-da180299-9953-43bd-8797-69da2dc2e4c1\">\n",
              "    <div class=\"colab-df-container\">\n",
              "      <div>\n",
              "<style scoped>\n",
              "    .dataframe tbody tr th:only-of-type {\n",
              "        vertical-align: middle;\n",
              "    }\n",
              "\n",
              "    .dataframe tbody tr th {\n",
              "        vertical-align: top;\n",
              "    }\n",
              "\n",
              "    .dataframe thead th {\n",
              "        text-align: right;\n",
              "    }\n",
              "</style>\n",
              "<table border=\"1\" class=\"dataframe\">\n",
              "  <thead>\n",
              "    <tr style=\"text-align: right;\">\n",
              "      <th></th>\n",
              "      <th>date</th>\n",
              "      <th>token_id</th>\n",
              "      <th>btc_usd</th>\n",
              "      <th>img</th>\n",
              "    </tr>\n",
              "  </thead>\n",
              "  <tbody>\n",
              "    <tr>\n",
              "      <th>0</th>\n",
              "      <td>2017-11-09</td>\n",
              "      <td>2690</td>\n",
              "      <td>7143.580078</td>\n",
              "      <td>b'iVBORw0KGgoAAAANSUhEUgAAAVAAAAFQCAYAAADp6CbZ...</td>\n",
              "    </tr>\n",
              "    <tr>\n",
              "      <th>1</th>\n",
              "      <td>2017-11-12</td>\n",
              "      <td>9965</td>\n",
              "      <td>5950.069824</td>\n",
              "      <td>b'iVBORw0KGgoAAAANSUhEUgAAAVAAAAFQCAYAAADp6CbZ...</td>\n",
              "    </tr>\n",
              "    <tr>\n",
              "      <th>2</th>\n",
              "      <td>2017-11-13</td>\n",
              "      <td>7750</td>\n",
              "      <td>6559.490234</td>\n",
              "      <td>b'iVBORw0KGgoAAAANSUhEUgAAAVAAAAFQCAYAAADp6CbZ...</td>\n",
              "    </tr>\n",
              "    <tr>\n",
              "      <th>3</th>\n",
              "      <td>2017-11-14</td>\n",
              "      <td>2795</td>\n",
              "      <td>6635.750000</td>\n",
              "      <td>b'iVBORw0KGgoAAAANSUhEUgAAAVAAAAFQCAYAAADp6CbZ...</td>\n",
              "    </tr>\n",
              "    <tr>\n",
              "      <th>4</th>\n",
              "      <td>2017-11-15</td>\n",
              "      <td>5670</td>\n",
              "      <td>7315.540039</td>\n",
              "      <td>b'iVBORw0KGgoAAAANSUhEUgAAAVAAAAFQCAYAAADp6CbZ...</td>\n",
              "    </tr>\n",
              "  </tbody>\n",
              "</table>\n",
              "</div>\n",
              "      <button class=\"colab-df-convert\" onclick=\"convertToInteractive('df-da180299-9953-43bd-8797-69da2dc2e4c1')\"\n",
              "              title=\"Convert this dataframe to an interactive table.\"\n",
              "              style=\"display:none;\">\n",
              "        \n",
              "  <svg xmlns=\"http://www.w3.org/2000/svg\" height=\"24px\"viewBox=\"0 0 24 24\"\n",
              "       width=\"24px\">\n",
              "    <path d=\"M0 0h24v24H0V0z\" fill=\"none\"/>\n",
              "    <path d=\"M18.56 5.44l.94 2.06.94-2.06 2.06-.94-2.06-.94-.94-2.06-.94 2.06-2.06.94zm-11 1L8.5 8.5l.94-2.06 2.06-.94-2.06-.94L8.5 2.5l-.94 2.06-2.06.94zm10 10l.94 2.06.94-2.06 2.06-.94-2.06-.94-.94-2.06-.94 2.06-2.06.94z\"/><path d=\"M17.41 7.96l-1.37-1.37c-.4-.4-.92-.59-1.43-.59-.52 0-1.04.2-1.43.59L10.3 9.45l-7.72 7.72c-.78.78-.78 2.05 0 2.83L4 21.41c.39.39.9.59 1.41.59.51 0 1.02-.2 1.41-.59l7.78-7.78 2.81-2.81c.8-.78.8-2.07 0-2.86zM5.41 20L4 18.59l7.72-7.72 1.47 1.35L5.41 20z\"/>\n",
              "  </svg>\n",
              "      </button>\n",
              "      \n",
              "  <style>\n",
              "    .colab-df-container {\n",
              "      display:flex;\n",
              "      flex-wrap:wrap;\n",
              "      gap: 12px;\n",
              "    }\n",
              "\n",
              "    .colab-df-convert {\n",
              "      background-color: #E8F0FE;\n",
              "      border: none;\n",
              "      border-radius: 50%;\n",
              "      cursor: pointer;\n",
              "      display: none;\n",
              "      fill: #1967D2;\n",
              "      height: 32px;\n",
              "      padding: 0 0 0 0;\n",
              "      width: 32px;\n",
              "    }\n",
              "\n",
              "    .colab-df-convert:hover {\n",
              "      background-color: #E2EBFA;\n",
              "      box-shadow: 0px 1px 2px rgba(60, 64, 67, 0.3), 0px 1px 3px 1px rgba(60, 64, 67, 0.15);\n",
              "      fill: #174EA6;\n",
              "    }\n",
              "\n",
              "    [theme=dark] .colab-df-convert {\n",
              "      background-color: #3B4455;\n",
              "      fill: #D2E3FC;\n",
              "    }\n",
              "\n",
              "    [theme=dark] .colab-df-convert:hover {\n",
              "      background-color: #434B5C;\n",
              "      box-shadow: 0px 1px 3px 1px rgba(0, 0, 0, 0.15);\n",
              "      filter: drop-shadow(0px 1px 2px rgba(0, 0, 0, 0.3));\n",
              "      fill: #FFFFFF;\n",
              "    }\n",
              "  </style>\n",
              "\n",
              "      <script>\n",
              "        const buttonEl =\n",
              "          document.querySelector('#df-da180299-9953-43bd-8797-69da2dc2e4c1 button.colab-df-convert');\n",
              "        buttonEl.style.display =\n",
              "          google.colab.kernel.accessAllowed ? 'block' : 'none';\n",
              "\n",
              "        async function convertToInteractive(key) {\n",
              "          const element = document.querySelector('#df-da180299-9953-43bd-8797-69da2dc2e4c1');\n",
              "          const dataTable =\n",
              "            await google.colab.kernel.invokeFunction('convertToInteractive',\n",
              "                                                     [key], {});\n",
              "          if (!dataTable) return;\n",
              "\n",
              "          const docLinkHtml = 'Like what you see? Visit the ' +\n",
              "            '<a target=\"_blank\" href=https://colab.research.google.com/notebooks/data_table.ipynb>data table notebook</a>'\n",
              "            + ' to learn more about interactive tables.';\n",
              "          element.innerHTML = '';\n",
              "          dataTable['output_type'] = 'display_data';\n",
              "          await google.colab.output.renderOutput(dataTable, element);\n",
              "          const docLink = document.createElement('div');\n",
              "          docLink.innerHTML = docLinkHtml;\n",
              "          element.appendChild(docLink);\n",
              "        }\n",
              "      </script>\n",
              "    </div>\n",
              "  </div>\n",
              "  "
            ]
          },
          "metadata": {},
          "execution_count": 7
        }
      ]
    },
    {
      "cell_type": "code",
      "source": [
        "# same for test\n",
        "dates = punks_test['date'].unique()\n",
        "median_sales = []\n",
        "token_ids = []\n",
        "imgs=[]\n",
        "\n",
        "for date in dates:\n",
        "  day_sales = punks_test.loc[punks_test['date']== date]\n",
        "  median_sale = day_sales['btc_usd'].median()\n",
        "  median_sales.append(median_sale)\n",
        "  token = day_sales['token_id'].loc[(day_sales['date']== date) & (day_sales['btc_usd'] == median_sale)].values[0]\n",
        "  token_ids.append(token)\n",
        "  img = day_sales['img'].loc[(day_sales['date'] == date) & (day_sales['btc_usd'] == median_sale) & (day_sales['token_id'] == token)].values[0]\n",
        "  imgs.append(img)\n",
        "\n",
        "median_daily_test = pd.DataFrame(list(zip(dates, token_ids, median_sales, imgs)), columns=['date', 'token_id', 'btc_usd', 'img'])\n",
        "median_daily_test.head()"
      ],
      "metadata": {
        "colab": {
          "base_uri": "https://localhost:8080/",
          "height": 206
        },
        "id": "9_h2NFCMA3Td",
        "outputId": "f54a69d0-4288-445d-90b9-eb29e256e08a"
      },
      "execution_count": 8,
      "outputs": [
        {
          "output_type": "execute_result",
          "data": {
            "text/plain": [
              "        date token_id       btc_usd  \\\n",
              "0 2021-07-31     5879  41626.195312   \n",
              "1 2021-08-01     8918  39974.894531   \n",
              "2 2021-08-02      622  39201.945312   \n",
              "3 2021-08-03     2723  38152.980469   \n",
              "4 2021-08-04     7192  39747.503906   \n",
              "\n",
              "                                                 img  \n",
              "0  b'iVBORw0KGgoAAAANSUhEUgAAAVAAAAFQCAYAAADp6CbZ...  \n",
              "1  b'iVBORw0KGgoAAAANSUhEUgAAAVAAAAFQCAYAAADp6CbZ...  \n",
              "2  b'iVBORw0KGgoAAAANSUhEUgAAAVAAAAFQCAYAAADp6CbZ...  \n",
              "3  b'iVBORw0KGgoAAAANSUhEUgAAAVAAAAFQCAYAAADp6CbZ...  \n",
              "4  b'iVBORw0KGgoAAAANSUhEUgAAAVAAAAFQCAYAAADp6CbZ...  "
            ],
            "text/html": [
              "\n",
              "  <div id=\"df-44ec42e7-d75f-4858-b276-a608bbc93851\">\n",
              "    <div class=\"colab-df-container\">\n",
              "      <div>\n",
              "<style scoped>\n",
              "    .dataframe tbody tr th:only-of-type {\n",
              "        vertical-align: middle;\n",
              "    }\n",
              "\n",
              "    .dataframe tbody tr th {\n",
              "        vertical-align: top;\n",
              "    }\n",
              "\n",
              "    .dataframe thead th {\n",
              "        text-align: right;\n",
              "    }\n",
              "</style>\n",
              "<table border=\"1\" class=\"dataframe\">\n",
              "  <thead>\n",
              "    <tr style=\"text-align: right;\">\n",
              "      <th></th>\n",
              "      <th>date</th>\n",
              "      <th>token_id</th>\n",
              "      <th>btc_usd</th>\n",
              "      <th>img</th>\n",
              "    </tr>\n",
              "  </thead>\n",
              "  <tbody>\n",
              "    <tr>\n",
              "      <th>0</th>\n",
              "      <td>2021-07-31</td>\n",
              "      <td>5879</td>\n",
              "      <td>41626.195312</td>\n",
              "      <td>b'iVBORw0KGgoAAAANSUhEUgAAAVAAAAFQCAYAAADp6CbZ...</td>\n",
              "    </tr>\n",
              "    <tr>\n",
              "      <th>1</th>\n",
              "      <td>2021-08-01</td>\n",
              "      <td>8918</td>\n",
              "      <td>39974.894531</td>\n",
              "      <td>b'iVBORw0KGgoAAAANSUhEUgAAAVAAAAFQCAYAAADp6CbZ...</td>\n",
              "    </tr>\n",
              "    <tr>\n",
              "      <th>2</th>\n",
              "      <td>2021-08-02</td>\n",
              "      <td>622</td>\n",
              "      <td>39201.945312</td>\n",
              "      <td>b'iVBORw0KGgoAAAANSUhEUgAAAVAAAAFQCAYAAADp6CbZ...</td>\n",
              "    </tr>\n",
              "    <tr>\n",
              "      <th>3</th>\n",
              "      <td>2021-08-03</td>\n",
              "      <td>2723</td>\n",
              "      <td>38152.980469</td>\n",
              "      <td>b'iVBORw0KGgoAAAANSUhEUgAAAVAAAAFQCAYAAADp6CbZ...</td>\n",
              "    </tr>\n",
              "    <tr>\n",
              "      <th>4</th>\n",
              "      <td>2021-08-04</td>\n",
              "      <td>7192</td>\n",
              "      <td>39747.503906</td>\n",
              "      <td>b'iVBORw0KGgoAAAANSUhEUgAAAVAAAAFQCAYAAADp6CbZ...</td>\n",
              "    </tr>\n",
              "  </tbody>\n",
              "</table>\n",
              "</div>\n",
              "      <button class=\"colab-df-convert\" onclick=\"convertToInteractive('df-44ec42e7-d75f-4858-b276-a608bbc93851')\"\n",
              "              title=\"Convert this dataframe to an interactive table.\"\n",
              "              style=\"display:none;\">\n",
              "        \n",
              "  <svg xmlns=\"http://www.w3.org/2000/svg\" height=\"24px\"viewBox=\"0 0 24 24\"\n",
              "       width=\"24px\">\n",
              "    <path d=\"M0 0h24v24H0V0z\" fill=\"none\"/>\n",
              "    <path d=\"M18.56 5.44l.94 2.06.94-2.06 2.06-.94-2.06-.94-.94-2.06-.94 2.06-2.06.94zm-11 1L8.5 8.5l.94-2.06 2.06-.94-2.06-.94L8.5 2.5l-.94 2.06-2.06.94zm10 10l.94 2.06.94-2.06 2.06-.94-2.06-.94-.94-2.06-.94 2.06-2.06.94z\"/><path d=\"M17.41 7.96l-1.37-1.37c-.4-.4-.92-.59-1.43-.59-.52 0-1.04.2-1.43.59L10.3 9.45l-7.72 7.72c-.78.78-.78 2.05 0 2.83L4 21.41c.39.39.9.59 1.41.59.51 0 1.02-.2 1.41-.59l7.78-7.78 2.81-2.81c.8-.78.8-2.07 0-2.86zM5.41 20L4 18.59l7.72-7.72 1.47 1.35L5.41 20z\"/>\n",
              "  </svg>\n",
              "      </button>\n",
              "      \n",
              "  <style>\n",
              "    .colab-df-container {\n",
              "      display:flex;\n",
              "      flex-wrap:wrap;\n",
              "      gap: 12px;\n",
              "    }\n",
              "\n",
              "    .colab-df-convert {\n",
              "      background-color: #E8F0FE;\n",
              "      border: none;\n",
              "      border-radius: 50%;\n",
              "      cursor: pointer;\n",
              "      display: none;\n",
              "      fill: #1967D2;\n",
              "      height: 32px;\n",
              "      padding: 0 0 0 0;\n",
              "      width: 32px;\n",
              "    }\n",
              "\n",
              "    .colab-df-convert:hover {\n",
              "      background-color: #E2EBFA;\n",
              "      box-shadow: 0px 1px 2px rgba(60, 64, 67, 0.3), 0px 1px 3px 1px rgba(60, 64, 67, 0.15);\n",
              "      fill: #174EA6;\n",
              "    }\n",
              "\n",
              "    [theme=dark] .colab-df-convert {\n",
              "      background-color: #3B4455;\n",
              "      fill: #D2E3FC;\n",
              "    }\n",
              "\n",
              "    [theme=dark] .colab-df-convert:hover {\n",
              "      background-color: #434B5C;\n",
              "      box-shadow: 0px 1px 3px 1px rgba(0, 0, 0, 0.15);\n",
              "      filter: drop-shadow(0px 1px 2px rgba(0, 0, 0, 0.3));\n",
              "      fill: #FFFFFF;\n",
              "    }\n",
              "  </style>\n",
              "\n",
              "      <script>\n",
              "        const buttonEl =\n",
              "          document.querySelector('#df-44ec42e7-d75f-4858-b276-a608bbc93851 button.colab-df-convert');\n",
              "        buttonEl.style.display =\n",
              "          google.colab.kernel.accessAllowed ? 'block' : 'none';\n",
              "\n",
              "        async function convertToInteractive(key) {\n",
              "          const element = document.querySelector('#df-44ec42e7-d75f-4858-b276-a608bbc93851');\n",
              "          const dataTable =\n",
              "            await google.colab.kernel.invokeFunction('convertToInteractive',\n",
              "                                                     [key], {});\n",
              "          if (!dataTable) return;\n",
              "\n",
              "          const docLinkHtml = 'Like what you see? Visit the ' +\n",
              "            '<a target=\"_blank\" href=https://colab.research.google.com/notebooks/data_table.ipynb>data table notebook</a>'\n",
              "            + ' to learn more about interactive tables.';\n",
              "          element.innerHTML = '';\n",
              "          dataTable['output_type'] = 'display_data';\n",
              "          await google.colab.output.renderOutput(dataTable, element);\n",
              "          const docLink = document.createElement('div');\n",
              "          docLink.innerHTML = docLinkHtml;\n",
              "          element.appendChild(docLink);\n",
              "        }\n",
              "      </script>\n",
              "    </div>\n",
              "  </div>\n",
              "  "
            ]
          },
          "metadata": {},
          "execution_count": 8
        }
      ]
    },
    {
      "cell_type": "markdown",
      "source": [
        "# Visual feature extraction\n",
        "\n",
        "Our first attempts to predict the value of NFTs from image's feature extraction isn't showing any good result. The image only is not enough to forecast the price of an item and thus other factors than the visual features must be influencing the price of an NFT sale.\n",
        "\n",
        "In this notebook, we will start by extracting visual features from each median sale's image with the hypothesis in mind that it could help increase the price prediction's accuracy.\n",
        "\n",
        "We will process the images in a CNN, reduce dimensionality of the output and store it for further use."
      ],
      "metadata": {
        "id": "x1WJmgoZowfZ"
      }
    },
    {
      "cell_type": "markdown",
      "source": [
        "# Is VGG16 CNN model learning better than Alexnet?\n",
        "\n",
        "Alexnet's not learning nothing, try with the pre-trained model VGG16, which has a pre-process feature, if it can achieve better results."
      ],
      "metadata": {
        "id": "fIYS_JF_AD7x"
      }
    },
    {
      "cell_type": "code",
      "source": [
        "#upload pre-trained model\n",
        "pretrained = VGG16(weights='imagenet', include_top=False, input_shape=(64,64,3))\n",
        "\n",
        "vgg = models.Sequential()\n",
        "vgg.add(pretrained)\n",
        "# add the output layers to match our needs\n",
        "vgg.add(Flatten())\n",
        "vgg.add(Dense(units=4096, input_shape=(None,4096), activation='relu'))\n",
        "vgg.add(Dense(4096, input_shape=(None,4096), activation='relu'))\n",
        "\n",
        "vgg.compile(\n",
        "    loss='mean_squared_error',\n",
        "    optimizer=tf.optimizers.Adam(lr=1e-04),\n",
        "    metrics=['mae']    \n",
        ")\n",
        "\n",
        "#visualise model architecture\n",
        "pretrained.summary()\n",
        "vgg.summary()"
      ],
      "metadata": {
        "colab": {
          "base_uri": "https://localhost:8080/"
        },
        "id": "M0o-7kRCiAr7",
        "outputId": "c3a2cef4-6489-4aa7-d3d1-a2ef7e7d1fe2"
      },
      "execution_count": 9,
      "outputs": [
        {
          "output_type": "stream",
          "name": "stdout",
          "text": [
            "Downloading data from https://storage.googleapis.com/tensorflow/keras-applications/vgg16/vgg16_weights_tf_dim_ordering_tf_kernels_notop.h5\n",
            "58892288/58889256 [==============================] - 0s 0us/step\n",
            "58900480/58889256 [==============================] - 0s 0us/step\n",
            "Model: \"vgg16\"\n",
            "_________________________________________________________________\n",
            " Layer (type)                Output Shape              Param #   \n",
            "=================================================================\n",
            " input_1 (InputLayer)        [(None, 64, 64, 3)]       0         \n",
            "                                                                 \n",
            " block1_conv1 (Conv2D)       (None, 64, 64, 64)        1792      \n",
            "                                                                 \n",
            " block1_conv2 (Conv2D)       (None, 64, 64, 64)        36928     \n",
            "                                                                 \n",
            " block1_pool (MaxPooling2D)  (None, 32, 32, 64)        0         \n",
            "                                                                 \n",
            " block2_conv1 (Conv2D)       (None, 32, 32, 128)       73856     \n",
            "                                                                 \n",
            " block2_conv2 (Conv2D)       (None, 32, 32, 128)       147584    \n",
            "                                                                 \n",
            " block2_pool (MaxPooling2D)  (None, 16, 16, 128)       0         \n",
            "                                                                 \n",
            " block3_conv1 (Conv2D)       (None, 16, 16, 256)       295168    \n",
            "                                                                 \n",
            " block3_conv2 (Conv2D)       (None, 16, 16, 256)       590080    \n",
            "                                                                 \n",
            " block3_conv3 (Conv2D)       (None, 16, 16, 256)       590080    \n",
            "                                                                 \n",
            " block3_pool (MaxPooling2D)  (None, 8, 8, 256)         0         \n",
            "                                                                 \n",
            " block4_conv1 (Conv2D)       (None, 8, 8, 512)         1180160   \n",
            "                                                                 \n",
            " block4_conv2 (Conv2D)       (None, 8, 8, 512)         2359808   \n",
            "                                                                 \n",
            " block4_conv3 (Conv2D)       (None, 8, 8, 512)         2359808   \n",
            "                                                                 \n",
            " block4_pool (MaxPooling2D)  (None, 4, 4, 512)         0         \n",
            "                                                                 \n",
            " block5_conv1 (Conv2D)       (None, 4, 4, 512)         2359808   \n",
            "                                                                 \n",
            " block5_conv2 (Conv2D)       (None, 4, 4, 512)         2359808   \n",
            "                                                                 \n",
            " block5_conv3 (Conv2D)       (None, 4, 4, 512)         2359808   \n",
            "                                                                 \n",
            " block5_pool (MaxPooling2D)  (None, 2, 2, 512)         0         \n",
            "                                                                 \n",
            "=================================================================\n",
            "Total params: 14,714,688\n",
            "Trainable params: 14,714,688\n",
            "Non-trainable params: 0\n",
            "_________________________________________________________________\n",
            "Model: \"sequential\"\n",
            "_________________________________________________________________\n",
            " Layer (type)                Output Shape              Param #   \n",
            "=================================================================\n",
            " vgg16 (Functional)          (None, 2, 2, 512)         14714688  \n",
            "                                                                 \n",
            " flatten (Flatten)           (None, 2048)              0         \n",
            "                                                                 \n",
            " dense (Dense)               (None, 4096)              8392704   \n",
            "                                                                 \n",
            " dense_1 (Dense)             (None, 4096)              16781312  \n",
            "                                                                 \n",
            "=================================================================\n",
            "Total params: 39,888,704\n",
            "Trainable params: 39,888,704\n",
            "Non-trainable params: 0\n",
            "_________________________________________________________________\n"
          ]
        },
        {
          "output_type": "stream",
          "name": "stderr",
          "text": [
            "/usr/local/lib/python3.7/dist-packages/keras/optimizer_v2/adam.py:105: UserWarning: The `lr` argument is deprecated, use `learning_rate` instead.\n",
            "  super(Adam, self).__init__(name, **kwargs)\n"
          ]
        }
      ]
    },
    {
      "cell_type": "code",
      "source": [
        "img_data = base64.b64decode(median_daily_train.img[0][1:])\n",
        "img = Image.open(io.BytesIO(img_data))\n",
        "img = np.array(img)\n",
        "print(img.shape)\n",
        "plt.imshow(img)\n",
        "img = img[:,:,:3]\n",
        "print(img.shape)\n",
        "img = cv2.resize(img,(64,64))\n",
        "print(img.shape)\n",
        "img = img.reshape(1,64,64,3)\n",
        "print(img.shape)\n",
        "#pass the reshaped array in the preprocess input for vgg16 model\n",
        "img = preprocess_input(img)\n",
        "# pass the image through the predict method\n",
        "features = vgg.predict(img, use_multiprocessing=True)\n",
        "print(features.shape)"
      ],
      "metadata": {
        "id": "ainSM2GfD2p6",
        "colab": {
          "base_uri": "https://localhost:8080/",
          "height": 356
        },
        "outputId": "668fe77a-c140-4a4f-9024-83c8981d5e3e"
      },
      "execution_count": 10,
      "outputs": [
        {
          "output_type": "stream",
          "name": "stdout",
          "text": [
            "(336, 336, 4)\n",
            "(336, 336, 3)\n",
            "(64, 64, 3)\n",
            "(1, 64, 64, 3)\n",
            "(1, 4096)\n"
          ]
        },
        {
          "output_type": "display_data",
          "data": {
            "text/plain": [
              "<Figure size 432x288 with 1 Axes>"
            ],
            "image/png": "[encoded data removed]"
          },
          "metadata": {
            "needs_background": "light"
          }
        }
      ]
    },
    {
      "cell_type": "code",
      "source": [
        "# define X-y axes at the same time\n",
        "X_train = []\n",
        "y_train =[]\n",
        "X_test = []\n",
        "y_test =[]\n",
        "\n",
        "# loop through each image in the dataset\n",
        "for index, row in median_daily_train.iterrows():\n",
        "  b64_img = median_daily_train.img.loc[index][1:]\n",
        "  img_data = base64.b64decode(b64_img)\n",
        "  img = Image.open(io.BytesIO(img_data))\n",
        "  img = np.array(img)\n",
        "  img = img[:,:,:3]\n",
        "  img = cv2.resize(img,(64,64))\n",
        "  img = img.reshape(1,64,64,3)\n",
        "  #pass the reshaped array in the preprocess input for vgg16 model\n",
        "  img = preprocess_input(img)\n",
        "  X_train.append((img))\n",
        "  label_array = tf.convert_to_tensor(median_daily_train.btc_usd.loc[index], dtype=tf.float32)\n",
        "  y_train.append(label_array)\n",
        "\n",
        "# same for test set\n",
        "for index, row in median_daily_test.iterrows():\n",
        "  b64_img = median_daily_train.img.loc[index][1:]\n",
        "  img_data = base64.b64decode(b64_img)\n",
        "  img = Image.open(io.BytesIO(img_data))\n",
        "  img = np.array(img)\n",
        "  img = img[:,:,:3]\n",
        "  img = cv2.resize(img,(64,64))\n",
        "  img = img.reshape(1,64,64,3)\n",
        "  #pass the reshaped array in the preprocess input for vgg16 model\n",
        "  img = preprocess_input(img)\n",
        "  X_test.append((img))\n",
        "  label_array = tf.convert_to_tensor(median_daily_test.btc_usd.loc[index], dtype=tf.float32)\n",
        "  y_test.append(label_array)\n",
        "\n",
        "# convert to array\n",
        "X_train=np.array(X_train)\n",
        "y_train=np.array(y_train)\n",
        "X_test=np.array(X_test)\n",
        "y_test=np.array(y_test)\n",
        "\n",
        "print(len(X_train))\n",
        "print(len(y_train))\n",
        "print(len(X_test))\n",
        "print(len(y_test))\n",
        "\n",
        "print(X_train.shape)\n",
        "print(y_train.shape)\n",
        "print(X_test.shape)\n",
        "print(y_test.shape)"
      ],
      "metadata": {
        "id": "uBF9mfwco2VI",
        "colab": {
          "base_uri": "https://localhost:8080/"
        },
        "outputId": "adf2e062-249a-409b-93a1-4d737762ab31"
      },
      "execution_count": 11,
      "outputs": [
        {
          "output_type": "stream",
          "name": "stdout",
          "text": [
            "1000\n",
            "1000\n",
            "69\n",
            "69\n",
            "(1000, 1, 64, 64, 3)\n",
            "(1000,)\n",
            "(69, 1, 64, 64, 3)\n",
            "(69,)\n"
          ]
        }
      ]
    },
    {
      "cell_type": "code",
      "source": [
        "X_train = X_train.reshape(1000, 64, 64, 3)\n",
        "print(X_train.shape)\n",
        "X_test = X_test.reshape(69, 64, 64, 3)\n",
        "print(X_test.shape)"
      ],
      "metadata": {
        "id": "KhOyEIE3OiOO",
        "colab": {
          "base_uri": "https://localhost:8080/"
        },
        "outputId": "a54639fb-4488-4afa-8604-d236878b6e4a"
      },
      "execution_count": 12,
      "outputs": [
        {
          "output_type": "stream",
          "name": "stdout",
          "text": [
            "(1000, 64, 64, 3)\n",
            "(69, 64, 64, 3)\n"
          ]
        }
      ]
    },
    {
      "cell_type": "code",
      "source": [
        "train_ds = tf.data.Dataset.from_tensor_slices((X_train, y_train))\n",
        "train_ds = (train_ds.batch(batch_size=8,drop_remainder=True))\n",
        "\n",
        "test_ds = tf.data.Dataset.from_tensor_slices((X_test, y_test))\n",
        "test_ds = (test_ds.batch(batch_size=8,drop_remainder=True))\n",
        "\n",
        "train_ds_size = tf.data.experimental.cardinality(train_ds).numpy()\n",
        "test_ds_size = tf.data.experimental.cardinality(test_ds).numpy()\n",
        "print(\"Training data size:\", train_ds_size)\n",
        "print(\"Test data size:\", test_ds_size)"
      ],
      "metadata": {
        "id": "tygLKfGa2J80",
        "colab": {
          "base_uri": "https://localhost:8080/"
        },
        "outputId": "ded559bc-04c5-437a-f979-ba1fc9967c5a"
      },
      "execution_count": 13,
      "outputs": [
        {
          "output_type": "stream",
          "name": "stdout",
          "text": [
            "Training data size: 125\n",
            "Test data size: 8\n"
          ]
        }
      ]
    },
    {
      "cell_type": "code",
      "source": [
        "# fit vgg by running over the dataset multiple epochs. test prediction each epoch\n",
        "history = vgg.fit(\n",
        "    train_ds,\n",
        "    epochs = 50,\n",
        "    validation_data=test_ds,\n",
        "    validation_freq=1\n",
        ")"
      ],
      "metadata": {
        "id": "RBi2Haaq2KAf",
        "colab": {
          "base_uri": "https://localhost:8080/"
        },
        "outputId": "fb147aba-4726-4c94-94e2-cdceefec2547"
      },
      "execution_count": 14,
      "outputs": [
        {
          "output_type": "stream",
          "name": "stdout",
          "text": [
            "Epoch 1/50\n",
            "125/125 [==============================] - 237s 2s/step - loss: 152931264.0000 - mae: 7179.0859 - val_loss: 697641472.0000 - val_mae: 24866.0020\n",
            "Epoch 2/50\n",
            "125/125 [==============================] - 212s 2s/step - loss: 91047544.0000 - mae: 5059.4663 - val_loss: 385247328.0000 - val_mae: 15375.5000\n",
            "Epoch 3/50\n",
            "125/125 [==============================] - 211s 2s/step - loss: 86743992.0000 - mae: 5206.0137 - val_loss: 392864480.0000 - val_mae: 16239.2275\n",
            "Epoch 4/50\n",
            "125/125 [==============================] - 210s 2s/step - loss: 83546328.0000 - mae: 5081.1890 - val_loss: 369498144.0000 - val_mae: 15506.3535\n",
            "Epoch 5/50\n",
            "125/125 [==============================] - 211s 2s/step - loss: 81761304.0000 - mae: 5052.7021 - val_loss: 384017088.0000 - val_mae: 16261.5098\n",
            "Epoch 6/50\n",
            "125/125 [==============================] - 215s 2s/step - loss: 79265328.0000 - mae: 4941.3398 - val_loss: 393536416.0000 - val_mae: 16771.5312\n",
            "Epoch 7/50\n",
            "125/125 [==============================] - 211s 2s/step - loss: 76884272.0000 - mae: 4765.3999 - val_loss: 414360576.0000 - val_mae: 17550.2930\n",
            "Epoch 8/50\n",
            "125/125 [==============================] - 208s 2s/step - loss: 75522520.0000 - mae: 4761.4658 - val_loss: 422329536.0000 - val_mae: 17834.9707\n",
            "Epoch 9/50\n",
            "125/125 [==============================] - 209s 2s/step - loss: 78546864.0000 - mae: 4936.9204 - val_loss: 363258688.0000 - val_mae: 15352.4697\n",
            "Epoch 10/50\n",
            "125/125 [==============================] - 209s 2s/step - loss: 73984376.0000 - mae: 4778.4473 - val_loss: 416364864.0000 - val_mae: 17682.9863\n",
            "Epoch 11/50\n",
            "125/125 [==============================] - 211s 2s/step - loss: 81846000.0000 - mae: 5219.3989 - val_loss: 616679296.0000 - val_mae: 23499.3750\n",
            "Epoch 12/50\n",
            "125/125 [==============================] - 211s 2s/step - loss: 77358424.0000 - mae: 5015.3604 - val_loss: 571201024.0000 - val_mae: 22414.8711\n",
            "Epoch 13/50\n",
            "125/125 [==============================] - 211s 2s/step - loss: 74845952.0000 - mae: 4970.6362 - val_loss: 776144576.0000 - val_mae: 27068.3633\n",
            "Epoch 14/50\n",
            "125/125 [==============================] - 212s 2s/step - loss: 75942360.0000 - mae: 5148.8643 - val_loss: 724795008.0000 - val_mae: 26045.2969\n",
            "Epoch 15/50\n",
            "125/125 [==============================] - 213s 2s/step - loss: 73197376.0000 - mae: 5074.8428 - val_loss: 946897536.0000 - val_mae: 30265.6973\n",
            "Epoch 16/50\n",
            "125/125 [==============================] - 214s 2s/step - loss: 77153728.0000 - mae: 5198.8242 - val_loss: 1132029184.0000 - val_mae: 33294.7578\n",
            "Epoch 17/50\n",
            "125/125 [==============================] - 214s 2s/step - loss: 60178564.0000 - mae: 4628.4829 - val_loss: 738149248.0000 - val_mae: 26460.8613\n",
            "Epoch 18/50\n",
            "125/125 [==============================] - 211s 2s/step - loss: 50810116.0000 - mae: 4056.8091 - val_loss: 706102784.0000 - val_mae: 25918.6621\n",
            "Epoch 19/50\n",
            "125/125 [==============================] - 215s 2s/step - loss: 60177116.0000 - mae: 4537.4985 - val_loss: 994861952.0000 - val_mae: 31172.7402\n",
            "Epoch 20/50\n",
            "125/125 [==============================] - 215s 2s/step - loss: 44924488.0000 - mae: 3908.0681 - val_loss: 739789120.0000 - val_mae: 26629.6113\n",
            "Epoch 21/50\n",
            "125/125 [==============================] - 215s 2s/step - loss: 64363872.0000 - mae: 4883.3950 - val_loss: 742548032.0000 - val_mae: 26648.6016\n",
            "Epoch 22/50\n",
            "125/125 [==============================] - 215s 2s/step - loss: 57229800.0000 - mae: 4407.1841 - val_loss: 545747136.0000 - val_mae: 22486.4043\n",
            "Epoch 23/50\n",
            "125/125 [==============================] - 218s 2s/step - loss: 52400784.0000 - mae: 4230.6904 - val_loss: 468619840.0000 - val_mae: 20594.3242\n",
            "Epoch 24/50\n",
            "125/125 [==============================] - 215s 2s/step - loss: 48747332.0000 - mae: 3975.3076 - val_loss: 417959776.0000 - val_mae: 19294.4219\n",
            "Epoch 25/50\n",
            "125/125 [==============================] - 213s 2s/step - loss: 67678176.0000 - mae: 4889.7773 - val_loss: 395913856.0000 - val_mae: 18457.7949\n",
            "Epoch 26/50\n",
            "125/125 [==============================] - 215s 2s/step - loss: 74825384.0000 - mae: 5101.1152 - val_loss: 409085024.0000 - val_mae: 18781.1348\n",
            "Epoch 27/50\n",
            "125/125 [==============================] - 216s 2s/step - loss: 49008488.0000 - mae: 4243.2837 - val_loss: 401499104.0000 - val_mae: 18814.4941\n",
            "Epoch 28/50\n",
            "125/125 [==============================] - 217s 2s/step - loss: 51466760.0000 - mae: 4272.9136 - val_loss: 439169088.0000 - val_mae: 19853.5977\n",
            "Epoch 29/50\n",
            "125/125 [==============================] - 218s 2s/step - loss: 62865712.0000 - mae: 4893.5952 - val_loss: 476661632.0000 - val_mae: 20778.0312\n",
            "Epoch 30/50\n",
            "125/125 [==============================] - 216s 2s/step - loss: 87517816.0000 - mae: 5815.0713 - val_loss: 538578304.0000 - val_mae: 22180.1953\n",
            "Epoch 31/50\n",
            "125/125 [==============================] - 217s 2s/step - loss: 86931240.0000 - mae: 5777.0234 - val_loss: 924442304.0000 - val_mae: 30056.6445\n",
            "Epoch 32/50\n",
            "125/125 [==============================] - 214s 2s/step - loss: 136886144.0000 - mae: 7537.9722 - val_loss: 1124793216.0000 - val_mae: 33317.0508\n",
            "Epoch 33/50\n",
            "125/125 [==============================] - 216s 2s/step - loss: 145670240.0000 - mae: 7172.1260 - val_loss: 691267968.0000 - val_mae: 25410.9629\n",
            "Epoch 34/50\n",
            "125/125 [==============================] - 219s 2s/step - loss: 54185276.0000 - mae: 4274.2368 - val_loss: 373244640.0000 - val_mae: 18177.5195\n",
            "Epoch 35/50\n",
            "125/125 [==============================] - 217s 2s/step - loss: 82120128.0000 - mae: 5242.1455 - val_loss: 531429056.0000 - val_mae: 22313.3828\n",
            "Epoch 36/50\n",
            "125/125 [==============================] - 216s 2s/step - loss: 155078144.0000 - mae: 7862.5176 - val_loss: 772266368.0000 - val_mae: 27419.6992\n",
            "Epoch 37/50\n",
            "125/125 [==============================] - 216s 2s/step - loss: 95042832.0000 - mae: 5854.1118 - val_loss: 674732800.0000 - val_mae: 25575.0410\n",
            "Epoch 38/50\n",
            "125/125 [==============================] - 213s 2s/step - loss: 125301400.0000 - mae: 6748.4229 - val_loss: 686715520.0000 - val_mae: 25685.5840\n",
            "Epoch 39/50\n",
            "125/125 [==============================] - 214s 2s/step - loss: 143775360.0000 - mae: 7064.4653 - val_loss: 437712096.0000 - val_mae: 19956.1582\n",
            "Epoch 40/50\n",
            "125/125 [==============================] - 214s 2s/step - loss: 136189296.0000 - mae: 7031.6982 - val_loss: 411926496.0000 - val_mae: 18729.8223\n",
            "Epoch 41/50\n",
            "125/125 [==============================] - 215s 2s/step - loss: 65028140.0000 - mae: 4769.8784 - val_loss: 432576768.0000 - val_mae: 20126.6152\n",
            "Epoch 42/50\n",
            "125/125 [==============================] - 213s 2s/step - loss: 46435712.0000 - mae: 4460.7334 - val_loss: 438201888.0000 - val_mae: 20064.6445\n",
            "Epoch 43/50\n",
            "125/125 [==============================] - 213s 2s/step - loss: 60279980.0000 - mae: 4663.6270 - val_loss: 349589440.0000 - val_mae: 17735.6660\n",
            "Epoch 44/50\n",
            "125/125 [==============================] - 214s 2s/step - loss: 135695184.0000 - mae: 7418.0474 - val_loss: 527768480.0000 - val_mae: 21898.8633\n",
            "Epoch 45/50\n",
            "125/125 [==============================] - 218s 2s/step - loss: 61321636.0000 - mae: 4598.2476 - val_loss: 475571136.0000 - val_mae: 21147.4336\n",
            "Epoch 46/50\n",
            "125/125 [==============================] - 215s 2s/step - loss: 41860780.0000 - mae: 3932.1560 - val_loss: 268996704.0000 - val_mae: 15395.9658\n",
            "Epoch 47/50\n",
            "125/125 [==============================] - 213s 2s/step - loss: 99163336.0000 - mae: 6093.3403 - val_loss: 519049280.0000 - val_mae: 21909.5840\n",
            "Epoch 48/50\n",
            "125/125 [==============================] - 213s 2s/step - loss: 153685968.0000 - mae: 7930.0977 - val_loss: 598369344.0000 - val_mae: 23846.9355\n",
            "Epoch 49/50\n",
            "125/125 [==============================] - 215s 2s/step - loss: 162319264.0000 - mae: 7856.1226 - val_loss: 260185360.0000 - val_mae: 14419.0000\n",
            "Epoch 50/50\n",
            "125/125 [==============================] - 215s 2s/step - loss: 60498356.0000 - mae: 4853.6919 - val_loss: 199480832.0000 - val_mae: 12808.4824\n"
          ]
        }
      ]
    },
    {
      "cell_type": "code",
      "source": [
        "vgg.history.history.keys()"
      ],
      "metadata": {
        "id": "TDzLMH6V2KO9",
        "colab": {
          "base_uri": "https://localhost:8080/"
        },
        "outputId": "1dd59f46-fd5a-4cd0-84d0-79bb57a6f169"
      },
      "execution_count": 15,
      "outputs": [
        {
          "output_type": "execute_result",
          "data": {
            "text/plain": [
              "dict_keys(['loss', 'mae', 'val_loss', 'val_mae'])"
            ]
          },
          "metadata": {},
          "execution_count": 15
        }
      ]
    },
    {
      "cell_type": "code",
      "source": [
        "f,ax=plt.subplots(2,1,figsize=(10,10)) \n",
        "\n",
        "#Assigning the first subplot to graph training loss and validation loss\n",
        "ax[0].plot(vgg.history.history['loss'],color='b',label='Training Loss')\n",
        "ax[0].plot(vgg.history.history['val_loss'],color='r',label='Validation Loss')\n",
        "ax[0].legend(loc='upper right')\n",
        "\n",
        "#Plotting the training accuracy and validation accuracy\n",
        "ax[1].plot(vgg.history.history['mae'],color='b',label='Training  mae')\n",
        "ax[1].plot(vgg.history.history['val_mae'],color='r',label='Validation mae')\n",
        "\n",
        "plt.legend()"
      ],
      "metadata": {
        "id": "fqNx92O72kNf",
        "colab": {
          "base_uri": "https://localhost:8080/",
          "height": 619
        },
        "outputId": "7bfef1a6-64d3-42fb-e341-79f07f73437f"
      },
      "execution_count": 16,
      "outputs": [
        {
          "output_type": "execute_result",
          "data": {
            "text/plain": [
              "<matplotlib.legend.Legend at 0x7f0f3432c810>"
            ]
          },
          "metadata": {},
          "execution_count": 16
        },
        {
          "output_type": "display_data",
          "data": {
            "text/plain": [
              "<Figure size 720x720 with 2 Axes>"
            ],
            "image/png": "[encoded data removed]"
          },
          "metadata": {
            "needs_background": "light"
          }
        }
      ]
    },
    {
      "cell_type": "markdown",
      "source": [
        "# process all images with the trained model and save the outputs for further input in final model"
      ],
      "metadata": {
        "id": "JHXWcoI6-0R7"
      }
    },
    {
      "cell_type": "code",
      "source": [
        "# extract the features from all images and store it in a dictionary with index as keys\n",
        "data_train = {}\n",
        "data_test = {}\n",
        "\n",
        "# loop through each image in the dataset\n",
        "for index, row in median_daily_train.iterrows():\n",
        "  # pass the image through the predict method\n",
        "  features = vgg.predict(img, use_multiprocessing=True)\n",
        "  #save the feature extraction in the dictionary\n",
        "  data_train[index] = features\n",
        "\n",
        "# same for test set\n",
        "for index, row in median_daily_test.iterrows():\n",
        "  # pass the image through the predict method\n",
        "  features = vgg.predict(img, use_multiprocessing=True)\n",
        "  data_test[index] = features"
      ],
      "metadata": {
        "id": "cVKMwdXabw_0"
      },
      "execution_count": 17,
      "outputs": []
    },
    {
      "cell_type": "code",
      "source": [
        "# get a list of the extracted features\n",
        "outputCNN_train = np.array(list(data_train.values()))\n",
        "outputCNN_test = np.array(list(data_test.values()))\n",
        "print(outputCNN_train.shape)\n",
        "print(outputCNN_test.shape)\n",
        "\n",
        "# reshape so that there are samples of 4096 vectors\n",
        "#outputCNN_train = outputCNN_train.reshape(-1,4096)\n",
        "#outputCNN_test = outputCNN_test.reshape(-1,4096)\n",
        "#print(outputCNN_train.shape)\n",
        "#print(outputCNN_test.shape)"
      ],
      "metadata": {
        "id": "7W3kX77tPwEm",
        "colab": {
          "base_uri": "https://localhost:8080/"
        },
        "outputId": "bde767d7-b41e-4274-df73-3706600298e1"
      },
      "execution_count": 18,
      "outputs": [
        {
          "output_type": "stream",
          "name": "stdout",
          "text": [
            "(1000, 1, 4096)\n",
            "(69, 1, 4096)\n"
          ]
        }
      ]
    },
    {
      "cell_type": "code",
      "source": [
        "# save CNN output\n",
        "with open('outputCNN_train.txt', 'w') as f:\n",
        "    for item in outputCNN_train:\n",
        "        f.write(\"%s\\n\" % item)\n",
        "\n",
        "files.download('outputCNN_train.txt')\n",
        "\n",
        "with open('outputCNN_test.txt', 'w') as f:\n",
        "    for item in outputCNN_test:\n",
        "        f.write(\"%s\\n\" % item)\n",
        "\n",
        "files.download('outputCNN_test.txt')"
      ],
      "metadata": {
        "colab": {
          "base_uri": "https://localhost:8080/",
          "height": 17
        },
        "id": "AtreGVJPxa8V",
        "outputId": "008bfa7a-914d-46f5-b66b-a5c99a4498cd"
      },
      "execution_count": 19,
      "outputs": [
        {
          "output_type": "display_data",
          "data": {
            "text/plain": [
              "<IPython.core.display.Javascript object>"
            ],
            "application/javascript": [
              "\n",
              "    async function download(id, filename, size) {\n",
              "      if (!google.colab.kernel.accessAllowed) {\n",
              "        return;\n",
              "      }\n",
              "      const div = document.createElement('div');\n",
              "      const label = document.createElement('label');\n",
              "      label.textContent = `Downloading \"${filename}\": `;\n",
              "      div.appendChild(label);\n",
              "      const progress = document.createElement('progress');\n",
              "      progress.max = size;\n",
              "      div.appendChild(progress);\n",
              "      document.body.appendChild(div);\n",
              "\n",
              "      const buffers = [];\n",
              "      let downloaded = 0;\n",
              "\n",
              "      const channel = await google.colab.kernel.comms.open(id);\n",
              "      // Send a message to notify the kernel that we're ready.\n",
              "      channel.send({})\n",
              "\n",
              "      for await (const message of channel.messages) {\n",
              "        // Send a message to notify the kernel that we're ready.\n",
              "        channel.send({})\n",
              "        if (message.buffers) {\n",
              "          for (const buffer of message.buffers) {\n",
              "            buffers.push(buffer);\n",
              "            downloaded += buffer.byteLength;\n",
              "            progress.value = downloaded;\n",
              "          }\n",
              "        }\n",
              "      }\n",
              "      const blob = new Blob(buffers, {type: 'application/binary'});\n",
              "      const a = document.createElement('a');\n",
              "      a.href = window.URL.createObjectURL(blob);\n",
              "      a.download = filename;\n",
              "      div.appendChild(a);\n",
              "      a.click();\n",
              "      div.remove();\n",
              "    }\n",
              "  "
            ]
          },
          "metadata": {}
        },
        {
          "output_type": "display_data",
          "data": {
            "text/plain": [
              "<IPython.core.display.Javascript object>"
            ],
            "application/javascript": [
              "download(\"download_27a92a01-bf92-4a74-8776-eb11ae4e6aec\", \"outputCNN_train.txt\", 68000)"
            ]
          },
          "metadata": {}
        },
        {
          "output_type": "display_data",
          "data": {
            "text/plain": [
              "<IPython.core.display.Javascript object>"
            ],
            "application/javascript": [
              "\n",
              "    async function download(id, filename, size) {\n",
              "      if (!google.colab.kernel.accessAllowed) {\n",
              "        return;\n",
              "      }\n",
              "      const div = document.createElement('div');\n",
              "      const label = document.createElement('label');\n",
              "      label.textContent = `Downloading \"${filename}\": `;\n",
              "      div.appendChild(label);\n",
              "      const progress = document.createElement('progress');\n",
              "      progress.max = size;\n",
              "      div.appendChild(progress);\n",
              "      document.body.appendChild(div);\n",
              "\n",
              "      const buffers = [];\n",
              "      let downloaded = 0;\n",
              "\n",
              "      const channel = await google.colab.kernel.comms.open(id);\n",
              "      // Send a message to notify the kernel that we're ready.\n",
              "      channel.send({})\n",
              "\n",
              "      for await (const message of channel.messages) {\n",
              "        // Send a message to notify the kernel that we're ready.\n",
              "        channel.send({})\n",
              "        if (message.buffers) {\n",
              "          for (const buffer of message.buffers) {\n",
              "            buffers.push(buffer);\n",
              "            downloaded += buffer.byteLength;\n",
              "            progress.value = downloaded;\n",
              "          }\n",
              "        }\n",
              "      }\n",
              "      const blob = new Blob(buffers, {type: 'application/binary'});\n",
              "      const a = document.createElement('a');\n",
              "      a.href = window.URL.createObjectURL(blob);\n",
              "      a.download = filename;\n",
              "      div.appendChild(a);\n",
              "      a.click();\n",
              "      div.remove();\n",
              "    }\n",
              "  "
            ]
          },
          "metadata": {}
        },
        {
          "output_type": "display_data",
          "data": {
            "text/plain": [
              "<IPython.core.display.Javascript object>"
            ],
            "application/javascript": [
              "download(\"download_327242e6-5940-471f-bc71-bae3ccd235e9\", \"outputCNN_test.txt\", 4692)"
            ]
          },
          "metadata": {}
        }
      ]
    },
    {
      "cell_type": "markdown",
      "source": [
        "# Process historical sales data in an RNN model\n",
        "\n",
        "Dimensions of an RNN model should be of 3: \n",
        "\n",
        "- number of feature variables (in our case: time + prices), \n",
        "- time steps, \n",
        "- batch size."
      ],
      "metadata": {
        "id": "yyaEBr8nroYA"
      }
    },
    {
      "cell_type": "code",
      "source": [
        "# function to write the time series\n",
        "def plot_series(time, series, format=\"-\", start=0, end=None):\n",
        "    plt.plot(time[start:end], series[start:end], format)\n",
        "    plt.xlabel(\"Time\")\n",
        "    plt.ylabel(\"Value\")\n",
        "    plt.grid(True)"
      ],
      "metadata": {
        "id": "Ff6up1iD4dhN"
      },
      "execution_count": 20,
      "outputs": []
    },
    {
      "cell_type": "code",
      "source": [
        "# creating time series from df\n",
        "times_train = []\n",
        "series_train = []\n",
        "times_test = []\n",
        "series_test = []\n",
        "\n",
        "step=0\n",
        "for index, row in median_daily_train.iterrows():\n",
        "  times_train.append(step)\n",
        "  series_train.append(float(row.btc_usd))\n",
        "  step += 1\n",
        "\n",
        "for index, row in median_daily_test.iterrows():\n",
        "  times_test.append(step)\n",
        "  series_test.append(float(row.btc_usd))\n",
        "  step += 1"
      ],
      "metadata": {
        "id": "txI58fQVy1B9"
      },
      "execution_count": 21,
      "outputs": []
    },
    {
      "cell_type": "markdown",
      "source": [
        "beware that this is considering dates are continuous which is not true in our dataset"
      ],
      "metadata": {
        "id": "WToIdFA59eEL"
      }
    },
    {
      "cell_type": "code",
      "source": [
        "# Test your function and save all \"global\" variables within the G class (G stands for global)\n",
        "@dataclass\n",
        "class train:\n",
        "    TIME = np.array(times_train)\n",
        "    SERIES = np.array(series_train)\n",
        "    SPLIT_TIME = 2500\n",
        "    WINDOW_SIZE = 32\n",
        "    BATCH_SIZE = 256\n",
        "    SHUFFLE_BUFFER_SIZE = 1000\n",
        "\n",
        "class test:\n",
        "    TIME = np.array(times_test)\n",
        "    SERIES = np.array(series_test)\n",
        "    SPLIT_TIME = 2500\n",
        "    WINDOW_SIZE = 32\n",
        "    BATCH_SIZE = 256\n",
        "    SHUFFLE_BUFFER_SIZE = 1000\n",
        "\n",
        "plt.figure(figsize=(10, 6))\n",
        "plot_series(train.TIME, train.SERIES)\n",
        "plot_series(test.TIME, test.SERIES)\n",
        "plt.show()"
      ],
      "metadata": {
        "id": "kgmWKPhm9PIK",
        "colab": {
          "base_uri": "https://localhost:8080/",
          "height": 388
        },
        "outputId": "d49334cf-4f73-4313-c231-19afe6feda57"
      },
      "execution_count": 22,
      "outputs": [
        {
          "output_type": "display_data",
          "data": {
            "text/plain": [
              "<Figure size 720x432 with 1 Axes>"
            ],
            "image/png": "[encoded data removed]"
          },
          "metadata": {
            "needs_background": "light"
          }
        }
      ]
    },
    {
      "cell_type": "code",
      "source": [
        "time_train = train.TIME\n",
        "series_train = train.SERIES\n",
        "time_test = test.TIME\n",
        "series_test = test.SERIES\n",
        "print(time_train.shape)\n",
        "print(series_train.shape)\n",
        "print(time_test.shape)\n",
        "print(series_test.shape)"
      ],
      "metadata": {
        "id": "sjj5OLbY-On2",
        "colab": {
          "base_uri": "https://localhost:8080/"
        },
        "outputId": "73f4282e-eb86-4f3d-d831-c4be3fc9df64"
      },
      "execution_count": 23,
      "outputs": [
        {
          "output_type": "stream",
          "name": "stdout",
          "text": [
            "(1000,)\n",
            "(1000,)\n",
            "(69,)\n",
            "(69,)\n"
          ]
        }
      ]
    },
    {
      "cell_type": "code",
      "source": [
        "def windowed_dataset(series, window_size=train.WINDOW_SIZE, batch_size=train.BATCH_SIZE, shuffle_buffer=train.SHUFFLE_BUFFER_SIZE):\n",
        "    ds = tf.data.Dataset.from_tensor_slices(series)\n",
        "    ds = ds.window(window_size + 1, shift=1, drop_remainder=True)\n",
        "    ds = ds.flat_map(lambda w: w.batch(window_size + 1))\n",
        "    ds = ds.shuffle(shuffle_buffer)\n",
        "    ds = ds.map(lambda w: (w[:-1], w[-1]))\n",
        "    ds = ds.batch(batch_size).prefetch(1)\n",
        "    return ds\n",
        "\n",
        "\n",
        "# Apply the transformation to the datasets\n",
        "train_set = windowed_dataset(series_train, window_size=train.WINDOW_SIZE, batch_size=train.BATCH_SIZE, shuffle_buffer=train.SHUFFLE_BUFFER_SIZE)\n",
        "test_set = windowed_dataset(series_test, window_size=test.WINDOW_SIZE, batch_size=test.BATCH_SIZE, shuffle_buffer=test.SHUFFLE_BUFFER_SIZE)"
      ],
      "metadata": {
        "id": "Hy20YdNN-Ovf"
      },
      "execution_count": 24,
      "outputs": []
    },
    {
      "cell_type": "code",
      "source": [
        "# defining an RNN model architecture\n",
        "rnn = tf.keras.models.Sequential([\n",
        "                                  tf.keras.layers.Lambda(lambda x: tf.expand_dims(x, axis=-1),input_shape=[None]),\n",
        "                                  tf.keras.layers.BatchNormalization(),\n",
        "                                  tf.keras.layers.SimpleRNN(40, return_sequences=True),\n",
        "                                  tf.keras.layers.BatchNormalization(),\n",
        "                                  tf.keras.layers.SimpleRNN(40),\n",
        "                                  tf.keras.layers.BatchNormalization(),\n",
        "                                  tf.keras.layers.Dense(1),\n",
        "                                  #tf.keras.layers.Lambda(lambda x: x * 100.0)\n",
        "                                  ])\n",
        "\n",
        "rnn.compile(loss='mean_squared_error',\n",
        "            optimizer=tf.optimizers.Adam(lr=1e-1),\n",
        "            metrics=[\"mae\"])"
      ],
      "metadata": {
        "id": "0g7vww8R4O4T",
        "colab": {
          "base_uri": "https://localhost:8080/"
        },
        "outputId": "87516758-e931-4334-9879-6bfbfed040e9"
      },
      "execution_count": 25,
      "outputs": [
        {
          "output_type": "stream",
          "name": "stderr",
          "text": [
            "/usr/local/lib/python3.7/dist-packages/keras/optimizer_v2/adam.py:105: UserWarning: The `lr` argument is deprecated, use `learning_rate` instead.\n",
            "  super(Adam, self).__init__(name, **kwargs)\n"
          ]
        }
      ]
    },
    {
      "cell_type": "code",
      "source": [
        "# Train it\n",
        "history = rnn.fit(train_set, epochs=50)"
      ],
      "metadata": {
        "id": "r1V_BWR7RkpG",
        "colab": {
          "base_uri": "https://localhost:8080/"
        },
        "outputId": "6d60a609-cb0b-4d73-ae44-80ce992213f2"
      },
      "execution_count": 26,
      "outputs": [
        {
          "output_type": "stream",
          "name": "stdout",
          "text": [
            "Epoch 1/50\n",
            "4/4 [==============================] - 3s 170ms/step - loss: 528006048.0000 - mae: 16794.5820\n",
            "Epoch 2/50\n",
            "4/4 [==============================] - 0s 35ms/step - loss: 527335968.0000 - mae: 16787.9355\n",
            "Epoch 3/50\n",
            "4/4 [==============================] - 0s 31ms/step - loss: 526211680.0000 - mae: 16771.9590\n",
            "Epoch 4/50\n",
            "4/4 [==============================] - 0s 38ms/step - loss: 524393056.0000 - mae: 16743.0254\n",
            "Epoch 5/50\n",
            "4/4 [==============================] - 0s 31ms/step - loss: 521793920.0000 - mae: 16698.5977\n",
            "Epoch 6/50\n",
            "4/4 [==============================] - 0s 33ms/step - loss: 518141760.0000 - mae: 16636.1797\n",
            "Epoch 7/50\n",
            "4/4 [==============================] - 0s 36ms/step - loss: 513329888.0000 - mae: 16553.3203\n",
            "Epoch 8/50\n",
            "4/4 [==============================] - 0s 34ms/step - loss: 507338432.0000 - mae: 16447.7012\n",
            "Epoch 9/50\n",
            "4/4 [==============================] - 0s 33ms/step - loss: 500039616.0000 - mae: 16317.7168\n",
            "Epoch 10/50\n",
            "4/4 [==============================] - 0s 36ms/step - loss: 491519872.0000 - mae: 16161.5117\n",
            "Epoch 11/50\n",
            "4/4 [==============================] - 0s 34ms/step - loss: 481640640.0000 - mae: 15977.5166\n",
            "Epoch 12/50\n",
            "4/4 [==============================] - 0s 38ms/step - loss: 470226592.0000 - mae: 15764.9775\n",
            "Epoch 13/50\n",
            "4/4 [==============================] - 0s 45ms/step - loss: 457464096.0000 - mae: 15523.0811\n",
            "Epoch 14/50\n",
            "4/4 [==============================] - 0s 37ms/step - loss: 443360800.0000 - mae: 15251.3740\n",
            "Epoch 15/50\n",
            "4/4 [==============================] - 0s 33ms/step - loss: 427298848.0000 - mae: 14948.9873\n",
            "Epoch 16/50\n",
            "4/4 [==============================] - 0s 35ms/step - loss: 412815200.0000 - mae: 14616.2725\n",
            "Epoch 17/50\n",
            "4/4 [==============================] - 0s 33ms/step - loss: 396016576.0000 - mae: 14254.2090\n",
            "Epoch 18/50\n",
            "4/4 [==============================] - 0s 33ms/step - loss: 410205952.0000 - mae: 13864.2197\n",
            "Epoch 19/50\n",
            "4/4 [==============================] - 0s 35ms/step - loss: 384293024.0000 - mae: 13457.5459\n",
            "Epoch 20/50\n",
            "4/4 [==============================] - 0s 31ms/step - loss: 351061024.0000 - mae: 13028.6074\n",
            "Epoch 21/50\n",
            "4/4 [==============================] - 0s 33ms/step - loss: 329240800.0000 - mae: 12570.0645\n",
            "Epoch 22/50\n",
            "4/4 [==============================] - 0s 33ms/step - loss: 307550560.0000 - mae: 12084.5371\n",
            "Epoch 23/50\n",
            "4/4 [==============================] - 0s 33ms/step - loss: 288908704.0000 - mae: 11572.5957\n",
            "Epoch 24/50\n",
            "4/4 [==============================] - 0s 39ms/step - loss: 269013440.0000 - mae: 11051.8057\n",
            "Epoch 25/50\n",
            "4/4 [==============================] - 0s 30ms/step - loss: 245642976.0000 - mae: 10517.5107\n",
            "Epoch 26/50\n",
            "4/4 [==============================] - 0s 31ms/step - loss: 229624592.0000 - mae: 10017.4814\n",
            "Epoch 27/50\n",
            "4/4 [==============================] - 0s 31ms/step - loss: 210210720.0000 - mae: 9482.5508\n",
            "Epoch 28/50\n",
            "4/4 [==============================] - 0s 30ms/step - loss: 194696176.0000 - mae: 8975.1299\n",
            "Epoch 29/50\n",
            "4/4 [==============================] - 0s 32ms/step - loss: 180269632.0000 - mae: 8477.3252\n",
            "Epoch 30/50\n",
            "4/4 [==============================] - 0s 32ms/step - loss: 167510384.0000 - mae: 7967.2378\n",
            "Epoch 31/50\n",
            "4/4 [==============================] - 0s 31ms/step - loss: 154214928.0000 - mae: 7500.9170\n",
            "Epoch 32/50\n",
            "4/4 [==============================] - 0s 34ms/step - loss: 146273680.0000 - mae: 7168.1479\n",
            "Epoch 33/50\n",
            "4/4 [==============================] - 0s 31ms/step - loss: 134691376.0000 - mae: 6781.1631\n",
            "Epoch 34/50\n",
            "4/4 [==============================] - 0s 33ms/step - loss: 130970184.0000 - mae: 6569.3286\n",
            "Epoch 35/50\n",
            "4/4 [==============================] - 0s 34ms/step - loss: 124188352.0000 - mae: 6408.2759\n",
            "Epoch 36/50\n",
            "4/4 [==============================] - 0s 32ms/step - loss: 117499808.0000 - mae: 6191.4897\n",
            "Epoch 37/50\n",
            "4/4 [==============================] - 0s 34ms/step - loss: 113748088.0000 - mae: 6135.9907\n",
            "Epoch 38/50\n",
            "4/4 [==============================] - 0s 33ms/step - loss: 112046824.0000 - mae: 6100.5869\n",
            "Epoch 39/50\n",
            "4/4 [==============================] - 0s 33ms/step - loss: 105835024.0000 - mae: 5946.5884\n",
            "Epoch 40/50\n",
            "4/4 [==============================] - 0s 31ms/step - loss: 106315224.0000 - mae: 6010.1328\n",
            "Epoch 41/50\n",
            "4/4 [==============================] - 0s 35ms/step - loss: 103248296.0000 - mae: 6017.3208\n",
            "Epoch 42/50\n",
            "4/4 [==============================] - 0s 32ms/step - loss: 101073448.0000 - mae: 5972.0278\n",
            "Epoch 43/50\n",
            "4/4 [==============================] - 0s 33ms/step - loss: 104819960.0000 - mae: 6163.3560\n",
            "Epoch 44/50\n",
            "4/4 [==============================] - 0s 32ms/step - loss: 103601632.0000 - mae: 6168.0029\n",
            "Epoch 45/50\n",
            "4/4 [==============================] - 0s 32ms/step - loss: 100354816.0000 - mae: 6143.7114\n",
            "Epoch 46/50\n",
            "4/4 [==============================] - 0s 33ms/step - loss: 101410520.0000 - mae: 6287.8687\n",
            "Epoch 47/50\n",
            "4/4 [==============================] - 0s 32ms/step - loss: 105267552.0000 - mae: 6446.8354\n",
            "Epoch 48/50\n",
            "4/4 [==============================] - 0s 34ms/step - loss: 105207216.0000 - mae: 6455.0239\n",
            "Epoch 49/50\n",
            "4/4 [==============================] - 0s 38ms/step - loss: 106351888.0000 - mae: 6576.4395\n",
            "Epoch 50/50\n",
            "4/4 [==============================] - 0s 33ms/step - loss: 101493072.0000 - mae: 6507.3887\n"
          ]
        }
      ]
    },
    {
      "cell_type": "code",
      "source": [
        "# compute model evaluation\n",
        "def compute_metrics(true_series, forecast):\n",
        "    mse = tf.keras.metrics.mean_squared_error(true_series, forecast).numpy()\n",
        "    mae = tf.keras.metrics.mean_absolute_error(true_series, forecast).numpy()\n",
        "    return mse, mae"
      ],
      "metadata": {
        "id": "RqDfDk2TtCmD"
      },
      "execution_count": 27,
      "outputs": []
    },
    {
      "cell_type": "code",
      "source": [
        "print(len(series_test))\n",
        "dataset = tf.data.Dataset.from_tensor_slices(series_test)\n",
        "dataset = dataset.window(1, shift=1, drop_remainder=True)\n",
        "dataset = dataset.flat_map(lambda w: w.batch(test.WINDOW_SIZE))\n",
        "dataset = dataset.batch(32).prefetch(1)\n",
        "rnn_forecast = rnn.predict(dataset).squeeze()\n",
        "print(len(rnn_forecast))\n",
        "print(rnn_forecast)"
      ],
      "metadata": {
        "id": "NxDlqQhrlvZn",
        "colab": {
          "base_uri": "https://localhost:8080/"
        },
        "outputId": "ed232ea3-30d6-43a5-c2e1-d178c2de015d"
      },
      "execution_count": 28,
      "outputs": [
        {
          "output_type": "stream",
          "name": "stdout",
          "text": [
            "69\n",
            "69\n",
            "[39844.02  38763.59  38196.723 37039.543 38653.098 39250.105 40421.293\n",
            " 40828.02  40577.613 41961.973 41549.184 41555.19  40766.812 42219.934\n",
            " 42143.465 42135.26  41805.098 40905.613 40971.613 42067.656 42274.668\n",
            " 42266.355 42274.38  42277.81  42213.355 42267.582 42116.434 42269.62\n",
            " 42266.28  42264.57  42136.605 42154.168 42264.99  42274.48  42283.918\n",
            " 42282.973 42303.805 42317.55  42089.48  41848.035 41971.223 41027.105\n",
            " 41262.13  41834.52  41082.984 42142.754 42242.29  42219.215 42168.19\n",
            " 42246.824 42167.23  40426.934 39126.543 40539.668 41034.85  40426.113\n",
            " 40398.69  40487.664 40230.19  39376.043 39796.8   40576.24  42239.41\n",
            " 42213.777 42243.383 42270.684 42300.707 42402.598 42344.19 ]\n"
          ]
        }
      ]
    },
    {
      "cell_type": "code",
      "source": [
        "# Plot the forecast\n",
        "plt.figure(figsize=(10, 6))\n",
        "plot_series(time_test, series_test)\n",
        "plot_series(time_test, rnn_forecast+8300)"
      ],
      "metadata": {
        "id": "K4F_Fm5xSGyN",
        "colab": {
          "base_uri": "https://localhost:8080/",
          "height": 388
        },
        "outputId": "26448f89-0a7b-4d3e-e1f5-489f2019b503"
      },
      "execution_count": 29,
      "outputs": [
        {
          "output_type": "display_data",
          "data": {
            "text/plain": [
              "<Figure size 720x432 with 1 Axes>"
            ],
            "image/png": "[encoded data removed]"
          },
          "metadata": {
            "needs_background": "light"
          }
        }
      ]
    },
    {
      "cell_type": "code",
      "source": [
        "mse, mae = compute_metrics(series_test, rnn_forecast)\n",
        "print(f\"mse: {mse:.2f}, mae: {mae:.2f} for forecast\")"
      ],
      "metadata": {
        "id": "BXs7r98USG00",
        "colab": {
          "base_uri": "https://localhost:8080/"
        },
        "outputId": "7b5bf783-303a-426c-9ab7-ef80b4a8ccc4"
      },
      "execution_count": 30,
      "outputs": [
        {
          "output_type": "stream",
          "name": "stdout",
          "text": [
            "mse: 29615914.00, mae: 4865.52 for forecast\n"
          ]
        }
      ]
    },
    {
      "cell_type": "code",
      "source": [
        "# compute the predictions and store it into a dictionary\n",
        "data_train = {}\n",
        "data_test = {}\n",
        "\n",
        "trainset = tf.data.Dataset.from_tensor_slices(series_train)\n",
        "trainset = trainset.window(1, shift=1, drop_remainder=True)\n",
        "trainset = trainset.flat_map(lambda w: w.batch(test.WINDOW_SIZE))\n",
        "trainset = trainset.batch(32).prefetch(1)\n",
        "pred = rnn.predict(trainset).squeeze()\n",
        "data_train[index] = pred\n",
        "\n",
        "testset = tf.data.Dataset.from_tensor_slices(series_test)\n",
        "testset = testset.window(1, shift=1, drop_remainder=True)\n",
        "testset = testset.flat_map(lambda w: w.batch(test.WINDOW_SIZE))\n",
        "testset = testset.batch(32).prefetch(1)\n",
        "pred = rnn.predict(testset).squeeze()\n",
        "data_test[index] = pred"
      ],
      "metadata": {
        "id": "bG3B93Whe9ly"
      },
      "execution_count": 31,
      "outputs": []
    },
    {
      "cell_type": "code",
      "source": [
        "# get a list of the extracted features\n",
        "outputRNN_train = np.array(list(data_train.values()))\n",
        "outputRNN_test = np.array(list(data_test.values()))\n",
        "print(outputRNN_train.shape)\n",
        "print(outputRNN_test.shape)\n",
        "\n",
        "# reshape\n",
        "outputRNN_train = outputRNN_train.reshape(1000,1) # 1000*1 value\n",
        "outputRNN_test = outputRNN_test.reshape(69,1) # 69*1 value\n",
        "print(outputRNN_train.shape)\n",
        "print(outputRNN_test.shape)\n",
        "\n",
        "# add a 3rd dimension to fit the model input\n",
        "outputRNN_train = outputRNN_train[:,newaxis,:] # we want 3d arrays\n",
        "outputRNN_test = outputRNN_test[:,newaxis,:] # we want 3d arrays\n",
        "print(outputRNN_train.shape)\n",
        "print(outputRNN_test.shape)"
      ],
      "metadata": {
        "id": "qTCzZZOxj66P",
        "colab": {
          "base_uri": "https://localhost:8080/"
        },
        "outputId": "372a8ce0-2b2a-493c-b2ab-dbcbaa9c538b"
      },
      "execution_count": 32,
      "outputs": [
        {
          "output_type": "stream",
          "name": "stdout",
          "text": [
            "(1, 1000)\n",
            "(1, 69)\n",
            "(1000, 1)\n",
            "(69, 1)\n",
            "(1000, 1, 1)\n",
            "(69, 1, 1)\n"
          ]
        }
      ]
    },
    {
      "cell_type": "code",
      "source": [
        "# save RNN output\n",
        "with open('outputRNN_train.txt', 'w') as f:\n",
        "    for item in outputRNN_train:\n",
        "        f.write(\"%s\\n\" % item)\n",
        "\n",
        "files.download('outputRNN_train.txt')\n",
        "\n",
        "with open('outputRNN_test.txt', 'w') as f:\n",
        "    for item in outputRNN_test:\n",
        "        f.write(\"%s\\n\" % item)\n",
        "\n",
        "files.download('outputRNN_test.txt')"
      ],
      "metadata": {
        "colab": {
          "base_uri": "https://localhost:8080/",
          "height": 17
        },
        "id": "XfbSXwTkr1M9",
        "outputId": "3cef1a25-78af-4f21-8eeb-88a4966812ca"
      },
      "execution_count": 33,
      "outputs": [
        {
          "output_type": "display_data",
          "data": {
            "text/plain": [
              "<IPython.core.display.Javascript object>"
            ],
            "application/javascript": [
              "\n",
              "    async function download(id, filename, size) {\n",
              "      if (!google.colab.kernel.accessAllowed) {\n",
              "        return;\n",
              "      }\n",
              "      const div = document.createElement('div');\n",
              "      const label = document.createElement('label');\n",
              "      label.textContent = `Downloading \"${filename}\": `;\n",
              "      div.appendChild(label);\n",
              "      const progress = document.createElement('progress');\n",
              "      progress.max = size;\n",
              "      div.appendChild(progress);\n",
              "      document.body.appendChild(div);\n",
              "\n",
              "      const buffers = [];\n",
              "      let downloaded = 0;\n",
              "\n",
              "      const channel = await google.colab.kernel.comms.open(id);\n",
              "      // Send a message to notify the kernel that we're ready.\n",
              "      channel.send({})\n",
              "\n",
              "      for await (const message of channel.messages) {\n",
              "        // Send a message to notify the kernel that we're ready.\n",
              "        channel.send({})\n",
              "        if (message.buffers) {\n",
              "          for (const buffer of message.buffers) {\n",
              "            buffers.push(buffer);\n",
              "            downloaded += buffer.byteLength;\n",
              "            progress.value = downloaded;\n",
              "          }\n",
              "        }\n",
              "      }\n",
              "      const blob = new Blob(buffers, {type: 'application/binary'});\n",
              "      const a = document.createElement('a');\n",
              "      a.href = window.URL.createObjectURL(blob);\n",
              "      a.download = filename;\n",
              "      div.appendChild(a);\n",
              "      a.click();\n",
              "      div.remove();\n",
              "    }\n",
              "  "
            ]
          },
          "metadata": {}
        },
        {
          "output_type": "display_data",
          "data": {
            "text/plain": [
              "<IPython.core.display.Javascript object>"
            ],
            "application/javascript": [
              "download(\"download_250e1c40-ea65-4b82-b4a5-b44ffdba5ae3\", \"outputRNN_train.txt\", 13831)"
            ]
          },
          "metadata": {}
        },
        {
          "output_type": "display_data",
          "data": {
            "text/plain": [
              "<IPython.core.display.Javascript object>"
            ],
            "application/javascript": [
              "\n",
              "    async function download(id, filename, size) {\n",
              "      if (!google.colab.kernel.accessAllowed) {\n",
              "        return;\n",
              "      }\n",
              "      const div = document.createElement('div');\n",
              "      const label = document.createElement('label');\n",
              "      label.textContent = `Downloading \"${filename}\": `;\n",
              "      div.appendChild(label);\n",
              "      const progress = document.createElement('progress');\n",
              "      progress.max = size;\n",
              "      div.appendChild(progress);\n",
              "      document.body.appendChild(div);\n",
              "\n",
              "      const buffers = [];\n",
              "      let downloaded = 0;\n",
              "\n",
              "      const channel = await google.colab.kernel.comms.open(id);\n",
              "      // Send a message to notify the kernel that we're ready.\n",
              "      channel.send({})\n",
              "\n",
              "      for await (const message of channel.messages) {\n",
              "        // Send a message to notify the kernel that we're ready.\n",
              "        channel.send({})\n",
              "        if (message.buffers) {\n",
              "          for (const buffer of message.buffers) {\n",
              "            buffers.push(buffer);\n",
              "            downloaded += buffer.byteLength;\n",
              "            progress.value = downloaded;\n",
              "          }\n",
              "        }\n",
              "      }\n",
              "      const blob = new Blob(buffers, {type: 'application/binary'});\n",
              "      const a = document.createElement('a');\n",
              "      a.href = window.URL.createObjectURL(blob);\n",
              "      a.download = filename;\n",
              "      div.appendChild(a);\n",
              "      a.click();\n",
              "      div.remove();\n",
              "    }\n",
              "  "
            ]
          },
          "metadata": {}
        },
        {
          "output_type": "display_data",
          "data": {
            "text/plain": [
              "<IPython.core.display.Javascript object>"
            ],
            "application/javascript": [
              "download(\"download_13aa2483-7534-4e1d-818d-5e5e1823f3b9\", \"outputRNN_test.txt\", 939)"
            ]
          },
          "metadata": {}
        }
      ]
    },
    {
      "cell_type": "markdown",
      "source": [
        "# Final model - compute both CNN and RNN outputs together\n",
        "\n",
        "Since we are trying to predict the price over time, it will be a time series, but instead of time only we will have an X which will concatenate all dependent variables, and a target variable y which will be the price of median sale. \n",
        "\n",
        "A similar process could be used to compute as much input variables as we want, and indeed we should add some relevant predictors to improve our model performance, such as bitcoin rate at date (and other coins as well), stock market prices, social trends on nfts (google search data, twitter, reddit...) community engagement data for our collection (discord activity?)..."
      ],
      "metadata": {
        "id": "mN5C5lv7W2Ck"
      }
    },
    {
      "cell_type": "code",
      "source": [
        "print(outputCNN_train.shape)\n",
        "print(outputCNN_test.shape)\n",
        "print(outputRNN_train.shape)\n",
        "print(outputRNN_test.shape)\n",
        "\n",
        "X_train = concatenate([outputCNN_train, outputRNN_train]) # merge the two outputs. \n",
        "X_test = concatenate([outputCNN_test, outputRNN_test])\n",
        "y_train = np.array(series_train)\n",
        "y_test = np.array(series_test)\n",
        "\n",
        "print(X_train.shape)\n",
        "print(X_test.shape)\n",
        "print(y_train.shape)\n",
        "print(y_test.shape)"
      ],
      "metadata": {
        "id": "SnYyi8nIgF7X",
        "colab": {
          "base_uri": "https://localhost:8080/"
        },
        "outputId": "e7f24dcd-8af9-49f1-bea2-f72eb3538de6"
      },
      "execution_count": 34,
      "outputs": [
        {
          "output_type": "stream",
          "name": "stdout",
          "text": [
            "(1000, 1, 4096)\n",
            "(69, 1, 4096)\n",
            "(1000, 1, 1)\n",
            "(69, 1, 1)\n",
            "(1000, 1, 4097)\n",
            "(69, 1, 4097)\n",
            "(1000,)\n",
            "(69,)\n"
          ]
        }
      ]
    },
    {
      "cell_type": "code",
      "source": [
        "# using a CNN+LSTM to compute the prediction on combined input\n",
        "final = tf.keras.models.Sequential([\n",
        "                                    tf.keras.layers.Conv1D(filters=64,kernel_size=3,strides=1,padding=\"causal\",activation=\"relu\",input_shape=[1, 4097]), # adapt to our input\n",
        "                                    tf.keras.layers.LSTM(64, return_sequences=True),\n",
        "                                    tf.keras.layers.LSTM(64),\n",
        "                                    tf.keras.layers.Dense(32, activation=\"relu\"),\n",
        "                                    tf.keras.layers.Dense(16, activation=\"relu\"),\n",
        "                                    tf.keras.layers.Dense(1) # fit to predict the tuple of values\n",
        "                                    ])\n",
        "\n",
        "final.compile(loss='mean_squared_error',\n",
        "              optimizer=tf.optimizers.Adam(learning_rate=1e-1),\n",
        "              metrics=[\"mae\"])\n",
        "\n",
        "final.summary()"
      ],
      "metadata": {
        "id": "-mC1iclDXfGm",
        "colab": {
          "base_uri": "https://localhost:8080/"
        },
        "outputId": "944fb956-951d-4174-bb94-73229a66c6b7"
      },
      "execution_count": 35,
      "outputs": [
        {
          "output_type": "stream",
          "name": "stdout",
          "text": [
            "Model: \"sequential_2\"\n",
            "_________________________________________________________________\n",
            " Layer (type)                Output Shape              Param #   \n",
            "=================================================================\n",
            " conv1d (Conv1D)             (None, 1, 64)             786688    \n",
            "                                                                 \n",
            " lstm (LSTM)                 (None, 1, 64)             33024     \n",
            "                                                                 \n",
            " lstm_1 (LSTM)               (None, 64)                33024     \n",
            "                                                                 \n",
            " dense_3 (Dense)             (None, 32)                2080      \n",
            "                                                                 \n",
            " dense_4 (Dense)             (None, 16)                528       \n",
            "                                                                 \n",
            " dense_5 (Dense)             (None, 1)                 17        \n",
            "                                                                 \n",
            "=================================================================\n",
            "Total params: 855,361\n",
            "Trainable params: 855,361\n",
            "Non-trainable params: 0\n",
            "_________________________________________________________________\n"
          ]
        }
      ]
    },
    {
      "cell_type": "code",
      "source": [
        "# Train the final model\n",
        "history = final.fit(\n",
        "    X_train,\n",
        "    y_train,\n",
        "    epochs=50,\n",
        "    batch_size=1,\n",
        "    shuffle=False, # no shuffle for time series\n",
        "    validation_split=0.1\n",
        ")"
      ],
      "metadata": {
        "id": "dVi3c0sPmgFJ",
        "colab": {
          "base_uri": "https://localhost:8080/"
        },
        "outputId": "78e18ab3-b64f-4da9-f602-b246bbc21032"
      },
      "execution_count": 36,
      "outputs": [
        {
          "output_type": "stream",
          "name": "stdout",
          "text": [
            "Epoch 1/50\n",
            "900/900 [==============================] - 12s 10ms/step - loss: 5832826.5000 - mae: 1387.6965 - val_loss: 114050056.0000 - val_mae: 10055.6182\n",
            "Epoch 2/50\n",
            "900/900 [==============================] - 8s 9ms/step - loss: 27213432.0000 - mae: 2915.7241 - val_loss: 161589520.0000 - val_mae: 11725.6592\n",
            "Epoch 3/50\n",
            "900/900 [==============================] - 8s 9ms/step - loss: 15543565.0000 - mae: 1747.3607 - val_loss: 260452208.0000 - val_mae: 14580.0537\n",
            "Epoch 4/50\n",
            "900/900 [==============================] - 8s 9ms/step - loss: 353309280.0000 - mae: 13329.8096 - val_loss: 1386939904.0000 - val_mae: 36281.9727\n",
            "Epoch 5/50\n",
            "900/900 [==============================] - 8s 9ms/step - loss: 219196544.0000 - mae: 8534.2168 - val_loss: 799144704.0000 - val_mae: 26992.3594\n",
            "Epoch 6/50\n",
            "900/900 [==============================] - 8s 9ms/step - loss: 173328048.0000 - mae: 7575.0029 - val_loss: 546427136.0000 - val_mae: 21814.4258\n",
            "Epoch 7/50\n",
            "900/900 [==============================] - 8s 9ms/step - loss: 183534592.0000 - mae: 9006.0547 - val_loss: 493719840.0000 - val_mae: 20570.8965\n",
            "Epoch 8/50\n",
            "900/900 [==============================] - 8s 9ms/step - loss: 187372880.0000 - mae: 9343.4668 - val_loss: 482758816.0000 - val_mae: 20302.7246\n",
            "Epoch 9/50\n",
            "900/900 [==============================] - 8s 9ms/step - loss: 188140928.0000 - mae: 9407.5029 - val_loss: 479971232.0000 - val_mae: 20233.9629\n",
            "Epoch 10/50\n",
            "900/900 [==============================] - 8s 9ms/step - loss: 188320384.0000 - mae: 9422.3555 - val_loss: 479202560.0000 - val_mae: 20214.9629\n",
            "Epoch 11/50\n",
            "900/900 [==============================] - 9s 10ms/step - loss: 188378208.0000 - mae: 9426.7959 - val_loss: 479063008.0000 - val_mae: 20211.5078\n",
            "Epoch 12/50\n",
            "900/900 [==============================] - 10s 11ms/step - loss: 188402624.0000 - mae: 9428.2988 - val_loss: 479141920.0000 - val_mae: 20213.4570\n",
            "Epoch 13/50\n",
            "900/900 [==============================] - 10s 11ms/step - loss: 188416240.0000 - mae: 9428.8154 - val_loss: 479300128.0000 - val_mae: 20217.3730\n",
            "Epoch 14/50\n",
            "900/900 [==============================] - 10s 12ms/step - loss: 188425936.0000 - mae: 9428.9688 - val_loss: 479486400.0000 - val_mae: 20221.9766\n",
            "Epoch 15/50\n",
            "900/900 [==============================] - 10s 11ms/step - loss: 188433984.0000 - mae: 9428.9902 - val_loss: 479682656.0000 - val_mae: 20226.8242\n",
            "Epoch 16/50\n",
            "900/900 [==============================] - 10s 11ms/step - loss: 188441456.0000 - mae: 9428.9570 - val_loss: 479880672.0000 - val_mae: 20231.7246\n",
            "Epoch 17/50\n",
            "900/900 [==============================] - 10s 11ms/step - loss: 188448528.0000 - mae: 9428.9004 - val_loss: 480080512.0000 - val_mae: 20236.6680\n",
            "Epoch 18/50\n",
            "900/900 [==============================] - 10s 11ms/step - loss: 188455744.0000 - mae: 9428.8398 - val_loss: 480280608.0000 - val_mae: 20241.6016\n",
            "Epoch 19/50\n",
            "900/900 [==============================] - 9s 10ms/step - loss: 188462848.0000 - mae: 9428.7695 - val_loss: 480480640.0000 - val_mae: 20246.5508\n",
            "Epoch 20/50\n",
            "900/900 [==============================] - 9s 10ms/step - loss: 188469776.0000 - mae: 9428.7080 - val_loss: 480679232.0000 - val_mae: 20251.4492\n",
            "Epoch 21/50\n",
            "900/900 [==============================] - 10s 11ms/step - loss: 188476928.0000 - mae: 9428.6455 - val_loss: 480878048.0000 - val_mae: 20256.3516\n",
            "Epoch 22/50\n",
            "900/900 [==============================] - 10s 11ms/step - loss: 188483744.0000 - mae: 9428.5713 - val_loss: 481075520.0000 - val_mae: 20261.2246\n",
            "Epoch 23/50\n",
            "900/900 [==============================] - 9s 10ms/step - loss: 188490752.0000 - mae: 9428.5029 - val_loss: 481272800.0000 - val_mae: 20266.1016\n",
            "Epoch 24/50\n",
            "900/900 [==============================] - 9s 10ms/step - loss: 188497760.0000 - mae: 9428.4375 - val_loss: 481470560.0000 - val_mae: 20270.9746\n",
            "Epoch 25/50\n",
            "900/900 [==============================] - 9s 10ms/step - loss: 188504512.0000 - mae: 9428.3760 - val_loss: 481666080.0000 - val_mae: 20275.8047\n",
            "Epoch 26/50\n",
            "900/900 [==============================] - 10s 11ms/step - loss: 188511632.0000 - mae: 9428.3125 - val_loss: 481862656.0000 - val_mae: 20280.6523\n",
            "Epoch 27/50\n",
            "900/900 [==============================] - 10s 11ms/step - loss: 188518384.0000 - mae: 9428.2344 - val_loss: 482057792.0000 - val_mae: 20285.4570\n",
            "Epoch 28/50\n",
            "900/900 [==============================] - 9s 11ms/step - loss: 188525136.0000 - mae: 9428.1699 - val_loss: 482252544.0000 - val_mae: 20290.2578\n",
            "Epoch 29/50\n",
            "900/900 [==============================] - 9s 10ms/step - loss: 188531856.0000 - mae: 9428.0918 - val_loss: 482446496.0000 - val_mae: 20295.0430\n",
            "Epoch 30/50\n",
            "900/900 [==============================] - 9s 10ms/step - loss: 188538640.0000 - mae: 9428.0264 - val_loss: 482640928.0000 - val_mae: 20299.8242\n",
            "Epoch 31/50\n",
            "900/900 [==============================] - 9s 10ms/step - loss: 188545360.0000 - mae: 9427.9482 - val_loss: 482834272.0000 - val_mae: 20304.5879\n",
            "Epoch 32/50\n",
            "900/900 [==============================] - 10s 11ms/step - loss: 188552208.0000 - mae: 9427.8818 - val_loss: 483028000.0000 - val_mae: 20309.3516\n",
            "Epoch 33/50\n",
            "900/900 [==============================] - 10s 11ms/step - loss: 188558800.0000 - mae: 9427.8115 - val_loss: 483219616.0000 - val_mae: 20314.0742\n",
            "Epoch 34/50\n",
            "900/900 [==============================] - 10s 11ms/step - loss: 188565744.0000 - mae: 9427.7520 - val_loss: 483411680.0000 - val_mae: 20318.8047\n",
            "Epoch 35/50\n",
            "900/900 [==============================] - 10s 11ms/step - loss: 188572272.0000 - mae: 9427.6699 - val_loss: 483604192.0000 - val_mae: 20323.5430\n",
            "Epoch 36/50\n",
            "900/900 [==============================] - 9s 10ms/step - loss: 188578768.0000 - mae: 9427.5889 - val_loss: 483794208.0000 - val_mae: 20328.2129\n",
            "Epoch 37/50\n",
            "900/900 [==============================] - 9s 10ms/step - loss: 188585504.0000 - mae: 9427.5264 - val_loss: 483985248.0000 - val_mae: 20332.9121\n",
            "Epoch 38/50\n",
            "900/900 [==============================] - 9s 10ms/step - loss: 188592032.0000 - mae: 9427.4521 - val_loss: 484175136.0000 - val_mae: 20337.5781\n",
            "Epoch 39/50\n",
            "900/900 [==============================] - 10s 11ms/step - loss: 188598656.0000 - mae: 9427.3789 - val_loss: 484364576.0000 - val_mae: 20342.2266\n",
            "Epoch 40/50\n",
            "900/900 [==============================] - 10s 11ms/step - loss: 188605200.0000 - mae: 9427.3076 - val_loss: 484553536.0000 - val_mae: 20346.8809\n",
            "Epoch 41/50\n",
            "900/900 [==============================] - 10s 11ms/step - loss: 188611808.0000 - mae: 9427.2373 - val_loss: 484742016.0000 - val_mae: 20351.5137\n",
            "Epoch 42/50\n",
            "900/900 [==============================] - 9s 10ms/step - loss: 188618128.0000 - mae: 9427.1582 - val_loss: 484929952.0000 - val_mae: 20356.1309\n",
            "Epoch 43/50\n",
            "900/900 [==============================] - 9s 10ms/step - loss: 188624528.0000 - mae: 9427.0830 - val_loss: 485117056.0000 - val_mae: 20360.7188\n",
            "Epoch 44/50\n",
            "900/900 [==============================] - 9s 10ms/step - loss: 188631248.0000 - mae: 9427.0156 - val_loss: 485304896.0000 - val_mae: 20365.3379\n",
            "Epoch 45/50\n",
            "900/900 [==============================] - 9s 10ms/step - loss: 188637440.0000 - mae: 9426.9307 - val_loss: 485491232.0000 - val_mae: 20369.9121\n",
            "Epoch 46/50\n",
            "900/900 [==============================] - 9s 10ms/step - loss: 188643776.0000 - mae: 9426.8633 - val_loss: 485677184.0000 - val_mae: 20374.4746\n",
            "Epoch 47/50\n",
            "900/900 [==============================] - 10s 11ms/step - loss: 188650160.0000 - mae: 9426.7842 - val_loss: 485862240.0000 - val_mae: 20379.0156\n",
            "Epoch 48/50\n",
            "900/900 [==============================] - 9s 10ms/step - loss: 188656688.0000 - mae: 9426.7090 - val_loss: 486048480.0000 - val_mae: 20383.5840\n",
            "Epoch 49/50\n",
            "900/900 [==============================] - 9s 10ms/step - loss: 188662832.0000 - mae: 9426.6338 - val_loss: 486232384.0000 - val_mae: 20388.0938\n",
            "Epoch 50/50\n",
            "900/900 [==============================] - 9s 10ms/step - loss: 188669168.0000 - mae: 9426.5566 - val_loss: 486416416.0000 - val_mae: 20392.6016\n"
          ]
        }
      ]
    },
    {
      "cell_type": "code",
      "source": [
        "# plot the final model loss\n",
        "plt.plot(history.history['loss'])\n",
        "plt.plot(history.history['val_loss'])\n",
        "plt.title('model loss')\n",
        "plt.ylabel('loss')\n",
        "plt.xlabel('epoch')\n",
        "plt.legend(['train', 'test'], loc='lower right')\n",
        "plt.show()"
      ],
      "metadata": {
        "id": "AMdLpd4-nXW5",
        "colab": {
          "base_uri": "https://localhost:8080/",
          "height": 295
        },
        "outputId": "06e6cbf5-3105-4a70-86c0-9307f4349823"
      },
      "execution_count": 37,
      "outputs": [
        {
          "output_type": "display_data",
          "data": {
            "text/plain": [
              "<Figure size 432x288 with 1 Axes>"
            ],
            "image/png": "[encoded data removed]"
          },
          "metadata": {
            "needs_background": "light"
          }
        }
      ]
    },
    {
      "cell_type": "code",
      "source": [
        "# predictions on test set\n",
        "y_pred = final.predict(X_test)"
      ],
      "metadata": {
        "id": "DZW0CytFrM02"
      },
      "execution_count": 38,
      "outputs": []
    },
    {
      "cell_type": "code",
      "source": [
        "# plot predictions compared to true values\n",
        "plt.plot(y_test, label=\"Actual Price\", color='green')\n",
        "plt.plot(y_pred, label=\"Predicted Price\", color='red')\n",
        " \n",
        "plt.title('Cryptopunks price prediction')\n",
        "plt.xlabel('Time [days]')\n",
        "plt.ylabel('Price')\n",
        "plt.legend(loc='best')\n",
        " \n",
        "plt.show()"
      ],
      "metadata": {
        "id": "X8UhAtO7Sks4",
        "colab": {
          "base_uri": "https://localhost:8080/",
          "height": 295
        },
        "outputId": "af17c78e-71dd-4c97-93d5-2db6204a317c"
      },
      "execution_count": 39,
      "outputs": [
        {
          "output_type": "display_data",
          "data": {
            "text/plain": [
              "<Figure size 432x288 with 1 Axes>"
            ],
            "image/png": "[encoded data removed]"
          },
          "metadata": {
            "needs_background": "light"
          }
        }
      ]
    },
    {
      "cell_type": "code",
      "source": [
        "# get all three mae / mse on the same plot to compare methods\n"
      ],
      "metadata": {
        "id": "2YBPJOIwSnIs"
      },
      "execution_count": 40,
      "outputs": []
    },
    {
      "cell_type": "markdown",
      "source": [
        "### we can see that images + historical sales data achieves a best prediction performance than each of them taken individually. \n",
        "\n",
        "### this is encourageing to grow our forecasting model in a multivariate one inputting more variables."
      ],
      "metadata": {
        "id": "gsDJgJvBnYq-"
      }
    },
    {
      "cell_type": "code",
      "source": [
        ""
      ],
      "metadata": {
        "id": "g86aohzen4GE"
      },
      "execution_count": 40,
      "outputs": []
    }
  ],
  "metadata": {
    "colab": {
      "collapsed_sections": [],
      "name": "Combining CNN+RNN cryptopunks.ipynb",
      "provenance": []
    },
    "kernelspec": {
      "display_name": "Python 3",
      "name": "python3"
    },
    "language_info": {
      "name": "python"
    }
  },
  "nbformat": 4,
  "nbformat_minor": 0
}